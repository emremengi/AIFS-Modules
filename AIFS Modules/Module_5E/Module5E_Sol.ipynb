{
 "cells": [
  {
   "attachments": {},
   "cell_type": "markdown",
   "metadata": {},
   "source": [
    "### Module 5E - Disease Contamination"
   ]
  },
  {
   "attachments": {},
   "cell_type": "markdown",
   "metadata": {},
   "source": [
    "Written for AIFS.   \n",
    "Copyright 2023 Tarek Zohdi, Emre Mengi, Omar Betancourt, Payton Goodrich. All rights reserved."
   ]
  },
  {
   "attachments": {},
   "cell_type": "markdown",
   "metadata": {},
   "source": [
    "The pandemic of 2020 has led to a huge interest of modeling and simulation of infectious diseases. One of the central questions is the potential infection zone produced by a cough. In this assignment, you will develop mathematical models to simulate the progressive time-evolution of the distribution of particles in space produced by a cough. You will be asked that you recommend safe distancing guidelines based on the range, distribution and settling time of the particles under the influence of gravity and drag from the surrounding air."
   ]
  },
  {
   "attachments": {},
   "cell_type": "markdown",
   "metadata": {},
   "source": [
    "<img src=\"cough.png\" width=\"800\" />"
   ]
  },
  {
   "cell_type": "code",
   "execution_count": null,
   "metadata": {
    "id": "B2QBMK6hmAB7"
   },
   "outputs": [],
   "source": [
    "################################## Importing Packages ####################################################\n",
    "\n",
    "import numpy as np\n",
    "import math\n",
    "import matplotlib.pyplot as plt\n",
    "from mpl_toolkits.mplot3d import Axes3D\n",
    "from copy import deepcopy\n",
    "from matplotlib import animation\n",
    "from matplotlib import rc\n",
    "plt.rcParams.update({'font.size': 18})\n",
    "from scipy.stats import uniform\n",
    "import pandas as pd\n",
    "from IPython.display import display, HTML\n",
    "import Zohdi_Utils as zu"
   ]
  },
  {
   "attachments": {},
   "cell_type": "markdown",
   "metadata": {},
   "source": [
    "### **Problem 1:** Theory-Based Exercises ###\n",
    "\n",
    "Answer the following questions *prior* to coding the assignment to better understand the background physics and mathematics that govern the given models. You **may** solve these problems by hand **and/or** using computational tools such as *Python* etc. Please include all handwritten work and code used to solve each problem."
   ]
  },
  {
   "attachments": {},
   "cell_type": "markdown",
   "metadata": {},
   "source": [
    "**Problem 1.1:** Given the particles are spherical with a random distribution of radii $R_i, i = 1, 2, 3, ..., N = \\textit{particles}$ and the masses are given by $m_i = \\rho_i \\frac{4}{3}\\pi R^3_i$, where $\\rho_i$ is the density of the particles and is assumed to be constant for all droplets, the equation of motion for the ith particle in the system is\n",
    "    \n",
    "\\begin{equation}\n",
    "    m_i \\ddot{\\mathbf{r}}_i = \\mathbf{\\Psi}_i^{grav} + \\mathbf{\\Psi}_i^{drag}\n",
    "\\end{equation}\n",
    "    \n",
    "where $m_i$ is the mass of each droplet, $\\mathbf{\\ddot{r}}_i$ is the droplet's acceleration, and the two $\\mathbf{\\Psi}$ are gravitational and drag forces respectively.    \n",
    "\n",
    "Let the $z$ axis be the vertical axis so we note that the gravitation force be defined as \n",
    "\n",
    "\\begin{equation}\n",
    "    \\mathbf{\\Psi}_i^{grav} = m_i (g_x, g_y, g_z) = (0, 0, -m_ig)\n",
    "\\end{equation}\n",
    "\n",
    "where $g$ is the gravitational constant. The drag force depends on the geometry of the droplet and the properties of the surrounding medium:\n",
    "\n",
    "\\begin{equation}\n",
    "    \\mathbf{\\Psi}_i^{drag} = \\frac{1}{2}\\rho_a C_D ||\\mathbf{v}^f - \\mathbf{v}_i|| (\\mathbf{v}^f - \\mathbf{v}_i) A_i\n",
    "\\end{equation}\n",
    "\n",
    "where $C_D$ is the drag coefficient, $A_i$ is the reference area, which for a sphere is $A_i = \\pi R^2_i$, $\\rho_a$ is the density of the ambient fluid environment and $\\mathbf{v}^f$ is the velocity of the surrounding medium, which in this case is air.\n",
    "\\\\*\n",
    "\n",
    "Solve for the acceleration of the particle and plug in the individual equations for $\\mathbf{\\Psi}_i^{grav}$, $\\mathbf{\\Psi}_i^{drag}$, and $m$.\n"
   ]
  },
  {
   "attachments": {},
   "cell_type": "markdown",
   "metadata": {},
   "source": [
    "*Answer here*"
   ]
  },
  {
   "attachments": {},
   "cell_type": "markdown",
   "metadata": {},
   "source": [
    "**Problem 1.2:** To determine the drag coefficient, we first determine the Reynolds number of the droplet $Re$:\n",
    "\n",
    "\\begin{equation}\n",
    "    Re = \\frac{2 R \\rho_a \\Vert \\bm{v}^f - \\bm{v}_i \\Vert}{\\mu_f}\n",
    "\\end{equation}\n",
    "\n",
    "Where $\\mu_f$ is the viscosity of the surrounding medium. Then, the drag coefficient is a piecewise function of $Re$:\n",
    "\n",
    "\\begin{equation}\n",
    "    C_{Di} = \n",
    "    \\begin{cases}\n",
    "    \\frac{24}{Re}, & 0 < Re \\leq 1 \\\\\n",
    "    \\frac{24}{Re^{0.646}}, & 1 < Re \\leq 400 \\\\\n",
    "    0.5, & 400 < Re \\leq 3 \\times 10^5 \\\\\n",
    "    0.000366Re^{0.4275}, & 3 \\times 10^5 < Re \\leq 2 \\times 10^6 \\\\\n",
    "    0.18, & Re > 2 \\times 10^6\n",
    "    \\end{cases}\n",
    "\\end{equation}\n",
    "\n",
    "Given the variable glossary values, write the piece-wise drag coefficient in terms of particle velocity."
   ]
  },
  {
   "attachments": {},
   "cell_type": "markdown",
   "metadata": {},
   "source": [
    "*Answer here*"
   ]
  },
  {
   "attachments": {},
   "cell_type": "markdown",
   "metadata": {},
   "source": [
    "**Problem 1.3:** We have the governing equation for the motion of the droplets, which we will numerically integrate using the Forward Euler method. Write down the Forward Euler scheme to integrate and find the position and velocity of some $i$-th droplet."
   ]
  },
  {
   "attachments": {},
   "cell_type": "markdown",
   "metadata": {},
   "source": [
    "*Answer here*"
   ]
  },
  {
   "attachments": {},
   "cell_type": "markdown",
   "metadata": {},
   "source": [
    "### **Problem 2:** Coding Exercises ###  \n",
    "Use the given python notebook template to complete the following coding exercises."
   ]
  },
  {
   "attachments": {},
   "cell_type": "markdown",
   "metadata": {},
   "source": [
    "**Problem 2.1:** Define the constants used in the simulation. Use the variable glossary at the end of the assignment."
   ]
  },
  {
   "cell_type": "code",
   "execution_count": null,
   "metadata": {
    "id": "wE72gB3MmAB8"
   },
   "outputs": [],
   "source": [
    "# ################################## Problem 2.1 ####################################################\n",
    "\n",
    "## System Parameters\n",
    "Ptot = #FILL IN HERE # Total power per unit area (W/m^2) \n",
    "Nr = #FILL IN HERE # Number of light rays\n",
    "sReg = #FILL IN HERE # domain size of solar rays (m)\n",
    "hReg = #FILL IN HERE # initial height of solar rays (m)\n",
    "Pmin = #FILL IN HERE #fraction of total power at which we stop tracking a ray\n",
    "\n",
    "# cutoff ratios for ground absorption\n",
    "Gm = #FILL IN HERE\n",
    "Gp = #FILL IN HERE\n",
    "\n",
    "domLim = #FILL IN HERE # Limit of domain in e1 and e2 domain (m)\n",
    "c = #FILL IN HERE # Speed of light in a vacuum (m/s)\n",
    "thetaR = #FILL IN HERE # Incoming angle of light (radians)\n",
    "\n",
    "## Genetic Algorithm Parameters\n",
    "K = #FILL IN HERE # Strings generated by breeding\n",
    "P = #FILL IN HERE # Surviving strings for breeding\n",
    "S = #FILL IN HERE # Design strings per generation\n",
    "G = #FILL IN HERE # Total Generations\n",
    "numLam = #FILL IN HERE # Number of parameters per design string\n",
    "w1 = #FILL IN HERE # Cost function weight\n",
    "w2 = #FILL IN HERE # Cost function weight\n",
    "\n",
    "# Search Bounds\n",
    "theta1SB = #FILL IN HERE # Solar Panel rotation about the e1-axis (radians)\n",
    "theta2SB = #FILL IN HERE # Solar Panel rotation about the e2-axis (radians)\n",
    "theta3SB = #FILL IN HERE # Solar Panel rotation about the e3-axis (radians)\n",
    "ngSB = #FILL IN HERE # Refractive index of ground\n",
    "nsSB = #FILL IN HERE # Refractive index of solar panel\n",
    "R1SB = #FILL IN HERE # Solar Panel size parameter w.r.t. the e1-axis\n",
    "R2SB = #FILL IN HERE # Solar Panel size parameter w.r.t. the e2-axis\n",
    "R3SB = #FILL IN HERE # Solar Panel size parameter w.r.t. the e3-axis\n",
    "p1SB = #FILL IN HERE # Solar Panel exponent w.r.t. the e1-axis\n",
    "p2SB = #FILL IN HERE # Solar Panel exponent w.r.t. the e2-axis\n",
    "p3SB = #FILL IN HERE # Solar Panel exponent w.r.t. the e3-axis\n",
    "h0SB = #FILL IN HERE # Solar Panel height (m)\n",
    "\n",
    "# max panel size parameters\n",
    "R1max = R1SB[1]\n",
    "R2max = R2SB[1]\n",
    "R3max = R3SB[1]\n",
    "\n",
    "# min panel exponent parameters\n",
    "p1min = p1SB[0]\n",
    "p2min = p2SB[0]\n",
    "p3min = p3SB[0]\n",
    "\n",
    "# ##################################################################################################################"
   ]
  },
  {
   "attachments": {},
   "cell_type": "markdown",
   "metadata": {},
   "source": [
    "**Problem 2.2:** Let us assume the total mass of all of the droplets in a cough is $M^{total} = 0.00005kg$, with a  mean particle radius of $\\bar{R} = 0.0001 m$ with variations according to \n",
    "\n",
    "\\begin{equation}\n",
    "    R_i = \\bar{R} \\times (1 + A \\times \\xi_i)\n",
    "\\end{equation}\n",
    "\n",
    "where $A = 0.9975$ and a random variable $-1 \\leq \\xi_i \\leq 1$. The algorithm used for particle generation should be:\n",
    "\n",
    "-Initialize total mass: $M = 0$\n",
    "\n",
    "-Start loop: \\quad$i=1,P_n$\n",
    "\n",
    "-Compute a random deviation from the mean radius $\\bar{R}$:  \\quad $R_i = \\bar{R} \\times (1 + A \\times \\xi_i)$\n",
    "\n",
    "-Compute the mass of the new particle and add to the total mass computed: \\quad $M = M + m_i = M + \\rho_i \\frac{4}{3} \\pi R^3_i$\n",
    "\n",
    "-Check if the threshold for total mass has been reached: \\quad If $M \\geq M^{total}$ then stop (\\textbf{determines $P_n =$ particles})\n",
    "\n",
    "-End loop.\n",
    "\n",
    "Initialize the particles size and mass randomly using the described algorithm."
   ]
  },
  {
   "cell_type": "code",
   "execution_count": null,
   "metadata": {},
   "outputs": [],
   "source": []
  },
  {
   "attachments": {},
   "cell_type": "markdown",
   "metadata": {},
   "source": [
    "**Problem 2.3:** The initial trajectories we determined from the following algorithm:\n",
    "\n",
    "\n",
    "-Specify the relative direction of the cough: $\\mathbf{N}^c = (N^c_x, N^c_y, N^c_z)$,\n",
    "\n",
    "-For each particle, $i = 1, 2, 3, ..., P_n$, construct a (perturbed) trajectory vector:\n",
    "    \n",
    "\\begin{equation}\n",
    "    \\mathbf{N}_i = (N^c_x + A^c_x \\times \\eta_{ix}, N^c_y + A^c_y \\times \\eta_{iy}, N^c_z + A^c_z \\times \\eta_{iz}), \n",
    "\\end{equation}\n",
    "    \n",
    "where the random cone parameters are bounded: $-1 \\leq \\eta_{ix} \\leq 1$, $0 \\leq \\eta_{iy} \\leq 1$, $-1 \\leq \\eta_{iz} \\leq 1$. \n",
    "    \n",
    "-For each particle, normalize the trajectory vector:\n",
    "\n",
    "\\begin{equation}\n",
    "    \\mathbf{n}_i = \\frac{1}{||\\mathbf{N}_i||_2} (N_{ix}, N_{iy}, N_{iz}). \n",
    "\\end{equation}\n",
    "    \n",
    "-For each particle, the velocity vector is constructed by a projection onto the normal vector:\n",
    "\n",
    "\\begin{equation}\n",
    "    \\mathbf{v}_i = V^c \\mathbf{n}_i\n",
    "\\end{equation}\n",
    "\n",
    "Initialize particle velocities using the described algorithm."
   ]
  },
  {
   "cell_type": "code",
   "execution_count": null,
   "metadata": {},
   "outputs": [],
   "source": []
  },
  {
   "attachments": {},
   "cell_type": "markdown",
   "metadata": {},
   "source": [
    "**Problem 2.4:** Fill in the lines marked \"FILL IN HERE\" in the main simulation cell and run the simulator."
   ]
  },
  {
   "cell_type": "code",
   "execution_count": null,
   "metadata": {},
   "outputs": [],
   "source": []
  },
  {
   "attachments": {},
   "cell_type": "markdown",
   "metadata": {},
   "source": [
    "### **Problem 3:** Analyzing Your Results ###  \n",
    "Answer the following questions about the code you created."
   ]
  },
  {
   "attachments": {},
   "cell_type": "markdown",
   "metadata": {},
   "source": [
    "**Problem 3.1:** Report approximately how far the particles landed from the starting point. Does the simulation agree with the prescribed '6-feet' social distancing recommendation from authorities?"
   ]
  },
  {
   "attachments": {},
   "cell_type": "markdown",
   "metadata": {},
   "source": [
    "*Answer here*"
   ]
  },
  {
   "attachments": {},
   "cell_type": "markdown",
   "metadata": {},
   "source": [
    "**Problem 3.2:** Knowing the particle size range used in the simulation, what percentage of the particles contaminating the air can be captured by a standard N95 mask? "
   ]
  },
  {
   "attachments": {},
   "cell_type": "markdown",
   "metadata": {},
   "source": [
    "*Answer here*"
   ]
  },
  {
   "attachments": {},
   "cell_type": "markdown",
   "metadata": {},
   "source": [
    "**Problem 3.3:** Include a series of plots showing how the cough particles spread. Include 5 approximately evenly-spaced frames from $t = 0$ until the final time for your system."
   ]
  },
  {
   "cell_type": "code",
   "execution_count": null,
   "metadata": {
    "colab": {
     "background_save": true
    },
    "id": "7V5e_XFLmACE"
   },
   "outputs": [],
   "source": [
    "################################# Plotting Best Solution Animation ###############################################################\n",
    "\n",
    "zu.PlotSolarAnimation(Lam[:,0], Nr, c, w1, w2, domLim, Ptot, Gm, Gp, Pmin, thetaR,R1max,R2max,R3max,p1min,p2min,\\\n",
    "            p3min,sReg,hReg)"
   ]
  },
  {
   "attachments": {},
   "cell_type": "markdown",
   "metadata": {},
   "source": [
    "Use the following variable glossary to fill in the required variables."
   ]
  },
  {
   "attachments": {},
   "cell_type": "markdown",
   "metadata": {},
   "source": [
    "<img src=\"VariableGlossary.png\" width=\"800\" />"
   ]
  },
  {
   "attachments": {},
   "cell_type": "markdown",
   "metadata": {},
   "source": []
  }
 ],
 "metadata": {
  "colab": {
   "name": "Drones.ipynb",
   "provenance": []
  },
  "kernelspec": {
   "display_name": "Python 3.9.7 ('base')",
   "language": "python",
   "name": "python3"
  },
  "language_info": {
   "codemirror_mode": {
    "name": "ipython",
    "version": 3
   },
   "file_extension": ".py",
   "mimetype": "text/x-python",
   "name": "python",
   "nbconvert_exporter": "python",
   "pygments_lexer": "ipython3",
   "version": "3.8.13"
  },
  "vscode": {
   "interpreter": {
    "hash": "3182b8545a1debe976130e08c1f12303d2138a80d5e38eea19c1e6a1b91def4d"
   }
  }
 },
 "nbformat": 4,
 "nbformat_minor": 1
}
