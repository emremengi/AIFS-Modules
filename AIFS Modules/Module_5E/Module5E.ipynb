{
 "cells": [
  {
   "attachments": {},
   "cell_type": "markdown",
   "metadata": {},
   "source": [
    "### Module 5E - Disease Contamination"
   ]
  },
  {
   "attachments": {},
   "cell_type": "markdown",
   "metadata": {},
   "source": [
    "Written for AIFS.   \n",
    "Copyright 2023 Tarek Zohdi, Emre Mengi, Omar Betancourt, Payton Goodrich. All rights reserved."
   ]
  },
  {
   "attachments": {},
   "cell_type": "markdown",
   "metadata": {},
   "source": [
    "The pandemic of 2020 has led to a huge interest of modeling and simulation of infectious diseases. One of the central questions is the potential infection zone produced by a cough. In this assignment, you will develop mathematical models to simulate the progressive time-evolution of the distribution of particles in space produced by a cough. You will be asked that you recommend safe distancing guidelines based on the range, distribution and settling time of the particles under the influence of gravity and drag from the surrounding air."
   ]
  },
  {
   "attachments": {},
   "cell_type": "markdown",
   "metadata": {},
   "source": [
    "<img src=\"cough.png\" width=\"800\" />"
   ]
  },
  {
   "cell_type": "code",
   "execution_count": null,
   "metadata": {
    "id": "B2QBMK6hmAB7"
   },
   "outputs": [],
   "source": [
    "################################## Importing Packages ####################################################\n",
    "\n",
    "from mpl_toolkits import mplot3d\n",
    "import numpy as np\n",
    "import matplotlib.pyplot as plt\n",
    "%matplotlib inline\n",
    "import time\n",
    "import datetime\n",
    "import pylab\n",
    "from celluloid import Camera"
   ]
  },
  {
   "attachments": {},
   "cell_type": "markdown",
   "metadata": {},
   "source": [
    "### **Problem 1:** Theory-Based Exercises ###\n",
    "\n",
    "Answer the following questions *prior* to coding the assignment to better understand the background physics and mathematics that govern the given models. You **may** solve these problems by hand **and/or** using computational tools such as *Python* etc. Please include all handwritten work and code used to solve each problem."
   ]
  },
  {
   "attachments": {},
   "cell_type": "markdown",
   "metadata": {},
   "source": [
    "**Problem 1.1:** Given the particles are spherical with a random distribution of radii $R_i, i = 1, 2, 3, ..., N = \\textit{particles}$ and the masses are given by $m_i = \\rho_i \\frac{4}{3}\\pi R^3_i$, where $\\rho_i$ is the density of the particles and is assumed to be constant for all droplets, the equation of motion for the ith particle in the system is\n",
    "    \n",
    "\\begin{equation}\n",
    "    m_i \\ddot{\\mathbf{r}}_i = \\mathbf{\\Psi}_i^{grav} + \\mathbf{\\Psi}_i^{drag}\n",
    "\\end{equation}\n",
    "    \n",
    "where $m_i$ is the mass of each droplet, $\\mathbf{\\ddot{r}}_i$ is the droplet's acceleration, and the two $\\mathbf{\\Psi}$ are gravitational and drag forces respectively.    \n",
    "\n",
    "Let the $z$ axis be the vertical axis so we note that the gravitation force be defined as \n",
    "\n",
    "\\begin{equation}\n",
    "    \\mathbf{\\Psi}_i^{grav} = m_i (g_x, g_y, g_z) = (0, 0, -m_ig)\n",
    "\\end{equation}\n",
    "\n",
    "where $g$ is the gravitational constant. The drag force depends on the geometry of the droplet and the properties of the surrounding medium:\n",
    "\n",
    "\\begin{equation}\n",
    "    \\mathbf{\\Psi}_i^{drag} = \\frac{1}{2}\\rho_a C_D ||\\mathbf{v}^f - \\mathbf{v}_i|| (\\mathbf{v}^f - \\mathbf{v}_i) A_i\n",
    "\\end{equation}\n",
    "\n",
    "where $C_D$ is the drag coefficient, $A_i$ is the reference area, which for a sphere is $A_i = \\pi R^2_i$, $\\rho_a$ is the density of the ambient fluid environment and $\\mathbf{v}^f$ is the velocity of the surrounding medium, which in this case is air.\n",
    "\\\\*\n",
    "\n",
    "Solve for the acceleration of the particle and plug in the individual equations for $\\mathbf{\\Psi}_i^{grav}$, $\\mathbf{\\Psi}_i^{drag}$, and $m$.\n"
   ]
  },
  {
   "attachments": {},
   "cell_type": "markdown",
   "metadata": {},
   "source": [
    "*Answer here*"
   ]
  },
  {
   "attachments": {},
   "cell_type": "markdown",
   "metadata": {},
   "source": [
    "**Problem 1.2:** To determine the drag coefficient, we first determine the Reynolds number of the droplet $Re$:\n",
    "\n",
    "\\begin{equation}\n",
    "    Re = \\frac{2 R \\rho_a \\Vert \\bm{v}^f - \\bm{v}_i \\Vert}{\\mu_f}\n",
    "\\end{equation}\n",
    "\n",
    "Where $\\mu_f$ is the viscosity of the surrounding medium. Then, the drag coefficient is a piecewise function of $Re$:\n",
    "\n",
    "\\begin{equation}\n",
    "    C_{Di} = \n",
    "    \\begin{cases}\n",
    "    \\frac{24}{Re}, & 0 < Re \\leq 1 \\\\\n",
    "    \\frac{24}{Re^{0.646}}, & 1 < Re \\leq 400 \\\\\n",
    "    0.5, & 400 < Re \\leq 3 \\times 10^5 \\\\\n",
    "    0.000366Re^{0.4275}, & 3 \\times 10^5 < Re \\leq 2 \\times 10^6 \\\\\n",
    "    0.18, & Re > 2 \\times 10^6\n",
    "    \\end{cases}\n",
    "\\end{equation}\n",
    "\n",
    "Given the variable glossary values, write the piece-wise drag coefficient in terms of particle velocity."
   ]
  },
  {
   "attachments": {},
   "cell_type": "markdown",
   "metadata": {},
   "source": [
    "*Answer here*"
   ]
  },
  {
   "attachments": {},
   "cell_type": "markdown",
   "metadata": {},
   "source": [
    "**Problem 1.3:** We have the governing equation for the motion of the droplets, which we will numerically integrate using the Forward Euler method. Write down the Forward Euler scheme to integrate and find the position and velocity of some $i$-th droplet."
   ]
  },
  {
   "attachments": {},
   "cell_type": "markdown",
   "metadata": {},
   "source": [
    "*Answer here*"
   ]
  },
  {
   "attachments": {},
   "cell_type": "markdown",
   "metadata": {},
   "source": [
    "### **Problem 2:** Coding Exercises ###  \n",
    "Use the given python notebook template to complete the following coding exercises."
   ]
  },
  {
   "attachments": {},
   "cell_type": "markdown",
   "metadata": {},
   "source": [
    "**Problem 2.1:** Define the constants used in the simulation. Use the variable glossary at the end of the assignment."
   ]
  },
  {
   "cell_type": "code",
   "execution_count": null,
   "metadata": {
    "id": "wE72gB3MmAB8"
   },
   "outputs": [],
   "source": [
    "# ################################## Problem 2.1 ####################################################\n",
    "\n",
    "#---------------- constants --------------------\n",
    "r0 = np.array([#FILL IN HERE]).T      # starting height (m) #FILL IN HERE\n",
    "g = np.array([#FILL IN HERE]).T   # gravity (m/s^2) #FILL IN HERE\n",
    "\n",
    "t_tot = # simulation time (s) #FILL IN HERE\n",
    "dt = # time step (s) #FILL IN HERE\n",
    "V0 = # magnitude of cough velocity (m / s) #FILL IN HERE\n",
    "rho = # density of particles (kg / m^3) #FILL IN HERE\n",
    "mTot = # total mass of droplets (kg) #FILL IN HERE\n",
    "\n",
    "vf = np.array([#FILL IN HERE]).T      # surrounding fluid velocity (m/s) #FILL IN HERE\n",
    "muf = # surrounding fluid viscosity (Pa/s) #FILL IN HERE\n",
    "rhoF = # density of air (kg / m^3) #FILL IN HERE"
   ]
  },
  {
   "attachments": {},
   "cell_type": "markdown",
   "metadata": {},
   "source": [
    "**Problem 2.2:** Let us assume the total mass of all of the droplets in a cough is $M^{total} = 0.00005kg$, with a  mean particle radius of $\\bar{R} = 0.0001 m$ with variations according to \n",
    "\n",
    "\\begin{equation}\n",
    "    R_i = \\bar{R} \\times (1 + A \\times \\xi_i)\n",
    "\\end{equation}\n",
    "\n",
    "where $A = 0.9975$ and a random variable $-1 \\leq \\xi_i \\leq 1$. The algorithm used for particle generation should be:\n",
    "\n",
    "-Initialize total mass: $M = 0$\n",
    "\n",
    "-Start loop: $i=1,P_n$\n",
    "\n",
    "-Compute a random deviation from the mean radius $\\bar{R}$:  \\quad $R_i = \\bar{R} \\times (1 + A \\times \\xi_i)$\n",
    "\n",
    "-Compute the mass of the new particle and add to the total mass computed: \\quad $M = M + m_i = M + \\rho_i \\frac{4}{3} \\pi R^3_i$\n",
    "\n",
    "-Check if the threshold for total mass has been reached: \\quad If $M \\geq M^{total}$ then stop (\\textbf{determines $P_n =$ particles})\n",
    "\n",
    "-End loop.\n",
    "\n",
    "Initialize the particles size and mass randomly using the described algorithm."
   ]
  },
  {
   "cell_type": "code",
   "execution_count": null,
   "metadata": {},
   "outputs": [],
   "source": [
    "# ################################## Problem 2.2 ####################################################\n",
    "\n",
    "#---------------- particle generation --------------------\n",
    "R_ave = 0.0001                  # average particle radius (m)\n",
    "R = []                          # vector containing particle radii\n",
    "Mtot = 0                        # track total number of particles\n",
    "mi = []                         # mass of each particle (kg)\n",
    "Aci = []                        # cross sectional area of each particle (m^2)\n",
    "A = 0.9975                      # deviatiatoric constant\n",
    "i = 0                           # index\n",
    "counter = True                  # counter\n",
    "\n",
    "while counter:\n",
    "    xi = np.random.randint(low=-1000, high=1000, size=1)/1000;\n",
    "    R.append(R_ave * (1 + A * xi))\n",
    "    Mtot = Mtot + rho*(4/3)*np.pi*R[i]**3\n",
    "    mi.append(rho*(4/3)*np.pi*R[i]**3)\n",
    "    Aci.append(np.pi * R[i]**2)\n",
    "    if Mtot >= mTot:\n",
    "        counter = False\n",
    "        pTot = i + 1\n",
    "        print('Total # particles = ', pTot)\n",
    "        print('rMin = ', np.amin(R))\n",
    "        print('rMax = ', np.amax(R))\n",
    "    else:\n",
    "        i += 1\n",
    "        \n",
    "\n",
    "Aci = np.asarray(Aci)\n",
    "R = np.asarray(R).T\n",
    "mi = np.asarray(mi)\n",
    "\n",
    "np.random.seed(10)\n",
    "sample = np.random.choice(pTot, 1000, replace=False)     # select random particles to plot"
   ]
  },
  {
   "attachments": {},
   "cell_type": "markdown",
   "metadata": {},
   "source": [
    "**Problem 2.3:** The initial trajectories we determined from the following algorithm:\n",
    "\n",
    "\n",
    "-Specify the relative direction of the cough: $\\mathbf{N}^c = (N^c_x, N^c_y, N^c_z)$,\n",
    "\n",
    "-For each particle, $i = 1, 2, 3, ..., P_n$, construct a (perturbed) trajectory vector:\n",
    "    \n",
    "\\begin{equation}\n",
    "    \\mathbf{N}_i = (N^c_x + A^c_x \\times \\eta_{ix}, N^c_y + A^c_y \\times \\eta_{iy}, N^c_z + A^c_z \\times \\eta_{iz}), \n",
    "\\end{equation}\n",
    "    \n",
    "where the random cone parameters are bounded: $-1 \\leq \\eta_{ix} \\leq 1$, $0 \\leq \\eta_{iy} \\leq 1$, $-1 \\leq \\eta_{iz} \\leq 1$. \n",
    "    \n",
    "-For each particle, normalize the trajectory vector:\n",
    "\n",
    "\\begin{equation}\n",
    "    \\mathbf{n}_i = \\frac{1}{||\\mathbf{N}_i||_2} (N_{ix}, N_{iy}, N_{iz}). \n",
    "\\end{equation}\n",
    "    \n",
    "-For each particle, the velocity vector is constructed by a projection onto the normal vector:\n",
    "\n",
    "\\begin{equation}\n",
    "    \\mathbf{v}_i = V^c \\mathbf{n}_i\n",
    "\\end{equation}\n",
    "\n",
    "Initialize particle velocities using the described algorithm."
   ]
  },
  {
   "cell_type": "code",
   "execution_count": null,
   "metadata": {},
   "outputs": [],
   "source": [
    "# ################################## Problem 2.3 ####################################################\n",
    "\n",
    "# initial trajectories\n",
    "Nc = np.array([0, 1., 0]).T     # direction of cough [x, y, z]\n",
    "NPart = np.zeros((pTot, 3))     # perturbed direction for each particle [xi, yi, zi]\n",
    "nPart = np.zeros((pTot, 3))     # normalized vector for each particle [nx, ny, nz]\n",
    "Ac = np.array([1.0, 0.5, 1.]).T  # deviatoric constants [Ax, Ay, Az]\n",
    "\n",
    "\n",
    "for i in range(pTot):\n",
    "    eta = [np.random.randint(low=-1000, high=1000, size=1)/1000,\n",
    "           np.random.randint(low=0, high=1000, size=1)/1000,\n",
    "           np.random.randint(low=-1000, high=1000, size=1)/1000]\n",
    "\n",
    "    NPart[i, 0] = Nc[0] + Ac[0]*eta[0]\n",
    "    NPart[i, 1] = Nc[1] + Ac[1]*eta[1]\n",
    "    NPart[i, 2] = Nc[2] + Ac[2]*eta[2]\n",
    "\n",
    "    nMag = np.linalg.norm(NPart[i, :], 2)\n",
    "\n",
    "    nPart[i, 0] = NPart[i, 0] / nMag\n",
    "    nPart[i, 1] = NPart[i, 1] / nMag\n",
    "    nPart[i, 2] = NPart[i, 2] / nMag\n",
    "\n",
    "v0 = V0 * nPart"
   ]
  },
  {
   "attachments": {},
   "cell_type": "markdown",
   "metadata": {},
   "source": [
    "**Problem 2.4:** Run the simulator. The resulting video will be saved as 'animation.mp4' in the same directory as the notebook."
   ]
  },
  {
   "cell_type": "code",
   "execution_count": null,
   "metadata": {},
   "outputs": [],
   "source": [
    "# ################################## Problem 2.4 ####################################################\n",
    "\n",
    "#---------------- solution arrays --------------------\n",
    "v0 = V0 * nPart\n",
    "rSol = []\n",
    "time_arr = []\n",
    "tPlot = []\n",
    "fig0 = plt.figure()\n",
    "camera = Camera(fig0)\n",
    "plot_R = R[0,sample]\n",
    "# ---------------------------------------------\n",
    "# ----------- Begin time stepping -------------\n",
    "# ---------------------------------------------\n",
    "\n",
    "ones = np.ones(pTot)\n",
    "vi = v0\n",
    "ri = np.outer(r0, ones).T\n",
    "rSol.append(ri)\n",
    "fGrav = np.outer(mi, g)\n",
    "\n",
    "inAir = np.ones(len(ri[:,0]), dtype=bool)\n",
    "timeFlight = np.zeros(len(inAir))\n",
    "\n",
    "t_step = 0\n",
    "time_arr.append(t_step)\n",
    "\n",
    "i = 0; ii = 0\n",
    "while np.any(inAir):\n",
    "#     if i % 10 == 0:\n",
    "#         print('time = ', t_step)\n",
    "    if t_step > t_tot:\n",
    "        print(\"simulation finished\")\n",
    "        break\n",
    "\n",
    "    Cd = np.zeros(pTot)\n",
    "    \n",
    "    # compute forces\n",
    "    vdiff = np.linalg.norm(vf - vi, 2, 1)\n",
    "\n",
    "    Re = (2 * R * rhoF * vdiff / muf).T\n",
    "    cond1 = np.where(np.logical_and(Re > 0, Re <= 1.0))[0]\n",
    "    cond2 = np.where(np.logical_and(Re > 1.0, Re <= 400))[0]\n",
    "    cond3 = np.where(np.logical_and(Re > 400, Re <= 3e5))[0]\n",
    "    cond4 = np.where(np.logical_and(Re > 3e5, Re <= 2e6))[0]\n",
    "    cond5 = np.where(np.logical_and(Re > 2e6, Re > 1.0))[0]\n",
    "        \n",
    "    if len(cond1) > 0:\n",
    "        Cd[cond1] = 24. / np.squeeze(Re[cond1])\n",
    "    if len(cond2) > 0:\n",
    "        Cd[cond2] = 24. / np.squeeze(np.power(Re[cond2], 0.646))\n",
    "    if len(cond3) > 0:\n",
    "        Cd[cond3] = 0.5\n",
    "    if len(cond4) > 0:\n",
    "        Cd[cond4] = 0.000366 * np.squeeze(np.power(Re[cond4], 0.4275))\n",
    "    if len(cond5) > 0:\n",
    "        Cd[cond5] = 0.18\n",
    "    \n",
    "    # https://stackoverflow.com/questions/18522216/multiplying-across-in-a-numpy-array\n",
    "    dragC = np.array([(Cd * np.squeeze(Aci) * vdiff), \n",
    "                      (Cd * np.squeeze(Aci) * vdiff), \n",
    "                      (Cd * np.squeeze(Aci) * vdiff)]).T\n",
    "    fDrag = 1/2 * rhoF * dragC * (vf - vi)\n",
    "    fTot = fDrag + fGrav\n",
    "    \n",
    "\n",
    "    ri[inAir,:] = ri[inAir,:] + dt*vi[inAir,:]\n",
    "    vi[inAir,:] = vi[inAir,:] + dt*(fTot[inAir,:] / mi[inAir])\n",
    "\n",
    "    contactSubstrate = np.where(ri[:, 2] <= 0)\n",
    "    inAir[contactSubstrate] = False\n",
    "    ri[contactSubstrate, 2] = 0\n",
    "    rSol.append(ri.copy())\n",
    "\n",
    "    # ------------ animate ------------\n",
    "    if i % 400 == 0:\n",
    "#         plt.figure(figsize=(10,7.5))\n",
    "        x2d = ri[sample,1]\n",
    "        y2d = ri[sample,2]\n",
    "        plt.scatter(r0[1], r0[2], color='k', s=500)\n",
    "        plt.scatter(x2d, y2d, c=plot_R, cmap='viridis', edgecolors='b')\n",
    "        plt.xlim(-0.02, 2)\n",
    "        plt.ylim(0, 3)\n",
    "        plt.xticks(fontsize=15)\n",
    "        plt.yticks(fontsize=15)\n",
    "        plt.xlabel('Range (m)', fontsize=25)\n",
    "        plt.ylabel('Height (m)', fontsize=25)\n",
    "        plt.tight_layout()\n",
    "        camera.snap()       \n",
    "        \n",
    "        \n",
    "    \n",
    "\n",
    "        \n",
    "    t_step += dt\n",
    "    time_arr.append(t_step)\n",
    "    i += 1\n",
    "      \n",
    "\n",
    "# --------------------------------------------\n",
    "print('compiling video ...')\n",
    "animation = camera.animate()\n",
    "animation.save('animation.mp4')\n",
    "print('____ compile complete ____')"
   ]
  },
  {
   "attachments": {},
   "cell_type": "markdown",
   "metadata": {},
   "source": [
    "### **Problem 3:** Analyzing Your Results ###  \n",
    "Answer the following questions about the code you created."
   ]
  },
  {
   "attachments": {},
   "cell_type": "markdown",
   "metadata": {},
   "source": [
    "**Problem 3.1:** Report approximately how far the particles landed from the starting point. Does the simulation agree with the prescribed '6-feet' social distancing recommendation from authorities?"
   ]
  },
  {
   "attachments": {},
   "cell_type": "markdown",
   "metadata": {},
   "source": [
    "*Answer here. Also include a screenshot of the animation by naming it 'range_cough_student.png' and keeping it in the same directory as the notebook. Then restart the notebook and rerun the following cell to display the image.*"
   ]
  },
  {
   "attachments": {},
   "cell_type": "markdown",
   "metadata": {},
   "source": [
    "<img src=\"range_cough_student.png\" width=\"400\" />"
   ]
  },
  {
   "attachments": {},
   "cell_type": "markdown",
   "metadata": {},
   "source": [
    "**Problem 3.2:** Knowing the particle size range used in the simulation, what percentage of the particles contaminating the air can be captured by a standard N95 mask? "
   ]
  },
  {
   "attachments": {},
   "cell_type": "markdown",
   "metadata": {},
   "source": [
    "*Answer here*"
   ]
  },
  {
   "attachments": {},
   "cell_type": "markdown",
   "metadata": {},
   "source": [
    "**Problem 3.3:** Include a series of plots showing how the cough particles spread. Include 6 approximately evenly-spaced frames from $t = 0$ until the final time for your system. The following code snippet will save 6 frames from your simulation."
   ]
  },
  {
   "cell_type": "code",
   "execution_count": null,
   "metadata": {
    "colab": {
     "background_save": true
    },
    "id": "7V5e_XFLmACE"
   },
   "outputs": [],
   "source": [
    "################################# Plotting Best Solution Animation ###############################################################\n",
    "\n",
    "tSol = np.array([0.1, 0.25, 0.5, 1.0, 2.0, 4.0])\n",
    "\n",
    "ti = []\n",
    "for i in range(len(tSol)):\n",
    "    ti.append(np.where(abs(time_arr - tSol[i]) < 1e-6)[0][0])  # retrieve indices containing desired times\n",
    "    \n",
    "print(ti)\n",
    "\n",
    "for j in range(len(ti)):\n",
    "    print('--- plotting time {}s'.format(ti[j]))\n",
    "    plot_sol = rSol[ti[j]]\n",
    "    fig = plt.figure(figsize = (15, 10))\n",
    "    ax = plt.axes(projection='3d')\n",
    "    ax.scatter3D(r0[0], r0[1], r0[2], c='k', marker='o', s=500)\n",
    "    output_fig = ax.scatter3D(plot_sol[sample, 0], plot_sol[sample, 1], plot_sol[sample, 2], \n",
    "                              marker='o', s=50, c=plot_R, edgecolor='grey')\n",
    "    cbar = plt.colorbar(output_fig, shrink=0.5, pad=-.125)\n",
    "    cbar.set_label('Particle radius (m)', fontsize=15)\n",
    "    ax.set_title('Droplets from Cough at Time = {}s'.format(ti[j]/10000), y = 1.08, fontsize=25)\n",
    "    ax.set_xlabel('X Axis')\n",
    "    ax.set_ylabel('Y Axis')\n",
    "    ax.set_zlabel('Z Axis')\n",
    "    ax.set_xlim(-0.02, 2)\n",
    "    ax.set_ylim(-0.02, 2)\n",
    "    ax.set_zlim(0, 3)\n",
    "    ax.tick_params(axis='x', which='major', pad=2000)\n",
    "    ax.tick_params(axis='y', which='major', pad=2000)\n",
    "    ax.view_init(5, 15)\n",
    "\n",
    "    label = pylab.annotate(\"Source\", \n",
    "                            xy = (r0[1], r0[2]), xytext = (1, 2),\n",
    "                            textcoords = 'offset points', ha = 'right', va = 'bottom',\n",
    "                            bbox = dict(boxstyle = 'round,pad=0.5', fc = 'yellow', alpha = 0.5),\n",
    "                            arrowprops = dict(arrowstyle = '->', connectionstyle = 'arc3,rad=0'))\n",
    "    plt.savefig('cough_t{}.png'.format(ti[j]/10000))"
   ]
  },
  {
   "attachments": {},
   "cell_type": "markdown",
   "metadata": {},
   "source": [
    "Use the following variable glossary to fill in the required variables."
   ]
  },
  {
   "attachments": {},
   "cell_type": "markdown",
   "metadata": {},
   "source": [
    "<img src=\"VariableGlossary.png\" width=\"800\" />"
   ]
  },
  {
   "attachments": {},
   "cell_type": "markdown",
   "metadata": {},
   "source": []
  }
 ],
 "metadata": {
  "colab": {
   "name": "Drones.ipynb",
   "provenance": []
  },
  "kernelspec": {
   "display_name": "Python 3.9.7 ('base')",
   "language": "python",
   "name": "python3"
  },
  "language_info": {
   "codemirror_mode": {
    "name": "ipython",
    "version": 3
   },
   "file_extension": ".py",
   "mimetype": "text/x-python",
   "name": "python",
   "nbconvert_exporter": "python",
   "pygments_lexer": "ipython3",
   "version": "3.8.13"
  },
  "vscode": {
   "interpreter": {
    "hash": "3182b8545a1debe976130e08c1f12303d2138a80d5e38eea19c1e6a1b91def4d"
   }
  }
 },
 "nbformat": 4,
 "nbformat_minor": 1
}
