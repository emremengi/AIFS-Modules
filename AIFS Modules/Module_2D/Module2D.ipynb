{
 "cells": [
  {
   "attachments": {},
   "cell_type": "markdown",
   "id": "9495b735",
   "metadata": {},
   "source": [
    "### Module 2D - Optics"
   ]
  },
  {
   "attachments": {},
   "cell_type": "markdown",
   "id": "6f214813",
   "metadata": {},
   "source": [
    "Written for AIFS.   \n",
    "Copyright 2023 Tarek Zohdi, Emre Mengi. All rights reserved."
   ]
  },
  {
   "attachments": {},
   "cell_type": "markdown",
   "id": "4d05a967",
   "metadata": {},
   "source": [
    "In this assignment, you will be introduced to the basics of optics, which will then lead to modules pertaining light-based simulation methods."
   ]
  },
  {
   "cell_type": "code",
   "execution_count": null,
   "id": "403c936f",
   "metadata": {},
   "outputs": [],
   "source": [
    "############################################### Import Packages ##########################################\n",
    "import numpy as np\n",
    "import math\n",
    "import matplotlib.pyplot as plt\n",
    "from mpl_toolkits.mplot3d import Axes3D\n",
    "import ipympl # for interactive jupyter notebook plots\n",
    "\n",
    "# plotting function for interactive plots\n",
    "def plotInteractive(n,v_f,v_ref):\n",
    "    # make it an interactive plot\n",
    "    %matplotlib widget\n",
    "    fig = plt.figure(figsize=(5,5))\n",
    "    ax = fig.add_subplot(111, projection='3d')\n",
    "    ax.set_xlim([-1,1])\n",
    "    ax.set_ylim([-1,1])\n",
    "    ax.set_zlim([-1,1])\n",
    "    ax.set_xlabel('x')\n",
    "    ax.set_ylabel('y')\n",
    "    ax.set_zlabel('z')\n",
    "    # plot using quiver\n",
    "    ax.quiver(0,0,0,n[0],n[1],n[2],color='r',label='Normal Vector')\n",
    "    ax.quiver(0,0,0,v_f[0],v_f[1],v_f[2],color='b',label='Velocity Vector')\n",
    "    ax.quiver(0,0,0,v_ref[0],v_ref[1],v_ref[2],color='g',label='Reflected Ray Velocity Vector')\n",
    "    ax.legend()\n",
    "    plt.show()"
   ]
  },
  {
   "attachments": {},
   "cell_type": "markdown",
   "id": "9a3599fd",
   "metadata": {},
   "source": [
    "Use the given python notebook template to complete the following coding exercises."
   ]
  },
  {
   "attachments": {},
   "cell_type": "markdown",
   "id": "5dc897be",
   "metadata": {},
   "source": [
    "**Problem 1:** Write a Python function that would take in refractive index, incident velocity vector, and normal vector and calculate the incident angle, reflected velocity, and absorbance. Use the given template code to fill in the blanks in the function **myOptics.**"
   ]
  },
  {
   "cell_type": "code",
   "execution_count": null,
   "id": "af620435",
   "metadata": {},
   "outputs": [],
   "source": [
    "############################################### Main Function ################################################\n",
    "\n",
    "def myOptics(n,v_f,n_hat): #function that will solve for incidence angle,reflected ray velocity, and P_abs    \n",
    "    \n",
    "    #RELATION: n . v_f. = ||n||.||v_f||.cos(theta_i)\n",
    "    \n",
    "    # calculate angle of incidence (theta_i)\n",
    "    theta_i = #FILL IN HERE\n",
    "    \n",
    "    # calculate angle of incidence (theta_i) in degrees\n",
    "    theta_deg = #FILL IN HERE\n",
    "    \n",
    "    # calculate reflected ray velocity (v_ref)\n",
    "    v_ref = #FILL IN HERE\n",
    "    \n",
    "    # calculate reflectivity (R)\n",
    "    IR = #FILL IN HERE\n",
    "\n",
    "    # calculate absorbed power (P_abs) as a percentage                \n",
    "    P_abs = #FILL IN HERE\n",
    "    \n",
    "    return theta_deg, list(v_ref), P_abs"
   ]
  },
  {
   "attachments": {},
   "cell_type": "markdown",
   "id": "7473cd6b",
   "metadata": {},
   "source": [
    "**Problem 2:** For the given surface normal, ray velocity, and surface refractive index combinations, calculate: (a) incidence angle $\\theta_i$, (b) ray velocity vector $v_j$ after reflection, (c) percentage of energy absorbed $P_{abs}$ at the surface point. Assume ray velocity magnitude to be the speed of light, $c=3\\times 10^8 m/s$ and ambient refractive index to be $n_i=1$."
   ]
  },
  {
   "attachments": {},
   "cell_type": "markdown",
   "id": "60cbcdcc",
   "metadata": {},
   "source": [
    "**Problem 2.1:** $n=[0.47,-0.58,0.67]$, $v_f=[0.44,-0.58,0.69]$, $n_a=15$"
   ]
  },
  {
   "cell_type": "code",
   "execution_count": null,
   "id": "48a2ab8e",
   "metadata": {},
   "outputs": [],
   "source": [
    "############################################### Problem 2.1 ################################################\n",
    "\n",
    "# define normal vector\n",
    "n = #FILL IN HERE\n",
    "\n",
    "# define velocity vector\n",
    "v_f = #FILL IN HERE\n",
    "\n",
    "# define refractive index\n",
    "n_a = #FILL IN HERE\n",
    "\n",
    "# call myOptics function\n",
    "theta_deg, v_ref, P_abs = myOptics(n,v_f,n_a)\n",
    "\n",
    "print('Incidence angle (deg):',theta_deg) # print angle of incidence\n",
    "print('Reflected ray velocity:',v_ref) # print reflected ray velocity\n",
    "print('Absorbed energy (\\%):',P_abs) # print absorbed power\n",
    "\n",
    "# call plotInteractive function\n",
    "plotInteractive(n,v_f,v_ref)"
   ]
  },
  {
   "attachments": {},
   "cell_type": "markdown",
   "id": "7d691b5e",
   "metadata": {},
   "source": [
    "**Problem 2.2:** $n=[0.48,-0.58,0.66]$, $v_f=[0.39,-0.58,0.72]$, $n_a=18.99$"
   ]
  },
  {
   "cell_type": "code",
   "execution_count": null,
   "id": "11b032f4",
   "metadata": {},
   "outputs": [],
   "source": [
    "############################################### Problem 2.2 ################################################\n",
    "\n",
    "# define normal vector\n",
    "n = #FILL IN HERE\n",
    "\n",
    "# define velocity vector\n",
    "v_f = #FILL IN HERE\n",
    "\n",
    "# define refractive index\n",
    "n_a = #FILL IN HERE\n",
    "\n",
    "# call myOptics function\n",
    "theta_deg, v_ref, P_abs = myOptics(n,v_f,n_a)\n",
    "\n",
    "print('Incidence angle (deg):',theta_deg) # print angle of incidence\n",
    "print('Reflected ray velocity:',v_ref) # print reflected ray velocity\n",
    "print('Absorbed energy (\\%):',P_abs) # print absorbed power\n",
    "\n",
    "# call plotInteractive function\n",
    "plotInteractive(n,v_f,v_ref)"
   ]
  },
  {
   "attachments": {},
   "cell_type": "markdown",
   "id": "a691b708",
   "metadata": {},
   "source": [
    "**Problem 2.3:** $n=[0.30,0.76,0.58]$, $v_f=[0.58,0.50,0.65]$, $n_a=15.38$"
   ]
  },
  {
   "cell_type": "code",
   "execution_count": null,
   "id": "5b6240fc",
   "metadata": {},
   "outputs": [],
   "source": [
    "############################################### Problem 2.3 ################################################\n",
    "\n",
    "# define normal vector\n",
    "n = = #FILL IN HERE\n",
    "\n",
    "# define velocity vector\n",
    "v_f = = #FILL IN HERE\n",
    "\n",
    "# define refractive index\n",
    "n_a = = #FILL IN HERE\n",
    "\n",
    "# call myOptics function\n",
    "theta_deg, v_ref, P_abs = myOptics(n,v_f,n_a)\n",
    "\n",
    "print('Incidence angle (deg):',theta_deg) # print angle of incidence\n",
    "print('Reflected ray velocity:',v_ref) # print reflected ray velocity\n",
    "print('Absorbed energy (\\%):',P_abs) # print absorbed power\n",
    "\n",
    "# call plotInteractive function\n",
    "plotInteractive(n,v_f,v_ref)"
   ]
  },
  {
   "attachments": {},
   "cell_type": "markdown",
   "id": "8de528f4",
   "metadata": {},
   "source": [
    "**Problem 2.4:** $n=[0.58,0.23,0.78]$, $v_f=[0.09,-0.58,0.81]$, $n_a=17.69$"
   ]
  },
  {
   "cell_type": "code",
   "execution_count": null,
   "id": "17aaeec1",
   "metadata": {},
   "outputs": [],
   "source": [
    "############################################### Problem 2.4 ################################################\n",
    "\n",
    "# define normal vector\n",
    "n = #FILL IN HERE\n",
    "\n",
    "# define velocity vector\n",
    "v_f = #FILL IN HERE\n",
    "\n",
    "# define refractive index\n",
    "n_a = #FILL IN HERE\n",
    "\n",
    "# call myOptics function\n",
    "theta_deg, v_ref, P_abs = myOptics(n,v_f,n_a)\n",
    "\n",
    "print('Incidence angle (deg):',theta_deg) # print angle of incidence\n",
    "print('Reflected ray velocity:',v_ref) # print reflected ray velocity\n",
    "print('Absorbed energy (\\%):',P_abs) # print absorbed power\n",
    "\n",
    "# call plotInteractive function\n",
    "plotInteractive(n,v_f,v_ref)"
   ]
  },
  {
   "attachments": {},
   "cell_type": "markdown",
   "id": "6150e9d0",
   "metadata": {},
   "source": [
    "**Problem 2.5:** $n=[0.31,-0.58,0.76]$, $v_f=[0.46,0.68,0.58]$, $n_a=14.97$"
   ]
  },
  {
   "cell_type": "code",
   "execution_count": null,
   "id": "630672c1",
   "metadata": {},
   "outputs": [],
   "source": [
    "############################################### Problem 2.5 ################################################\n",
    "\n",
    "# define normal vector\n",
    "n = #FILL IN HERE\n",
    "\n",
    "# define velocity vector\n",
    "v_f = #FILL IN HERE\n",
    "\n",
    "# define refractive index\n",
    "n_a = #FILL IN HERE\n",
    "\n",
    "# call myOptics function\n",
    "theta_deg, v_ref, P_abs = myOptics(n,v_f,n_a)\n",
    "\n",
    "print('Incidence angle (deg):',theta_deg) # print angle of incidence\n",
    "print('Reflected ray velocity:',v_ref) # print reflected ray velocity\n",
    "print('Absorbed energy (\\%):',P_abs) # print absorbed power\n",
    "\n",
    "# call plotInteractive function\n",
    "plotInteractive(n,v_f,v_ref)"
   ]
  },
  {
   "attachments": {},
   "cell_type": "markdown",
   "id": "260575b7",
   "metadata": {},
   "source": [
    "**Problem 2.6:** $n=[0.29,0.76,0.58]$, $v_f=[0.58,0.08,0.81]$, $n_a=1.80$"
   ]
  },
  {
   "cell_type": "code",
   "execution_count": null,
   "id": "7bd07c62",
   "metadata": {},
   "outputs": [],
   "source": [
    "############################################### Problem 2.6 ################################################\n",
    "\n",
    "# define normal vector\n",
    "n = #FILL IN HERE\n",
    "\n",
    "# define velocity vector\n",
    "v_f = #FILL IN HERE\n",
    "\n",
    "# define refractive index\n",
    "n_a = #FILL IN HERE\n",
    "\n",
    "# call myOptics function\n",
    "theta_deg, v_ref, P_abs = myOptics(n,v_f,n_a)\n",
    "\n",
    "print('Incidence angle (deg):',theta_deg) # print angle of incidence\n",
    "print('Reflected ray velocity:',v_ref) # print reflected ray velocity\n",
    "print('Absorbed energy (\\%):',P_abs) # print absorbed power\n",
    "\n",
    "# call plotInteractive function\n",
    "plotInteractive(n,v_f,v_ref)"
   ]
  },
  {
   "attachments": {},
   "cell_type": "markdown",
   "id": "ee65b5d1",
   "metadata": {},
   "source": [
    "**Problem 2.7:** $n=[0.58,0.49,0.65]$, $v_f=[0.09,-0.58,0.81]$, $n_a=3.79$"
   ]
  },
  {
   "cell_type": "code",
   "execution_count": null,
   "id": "4f93719b",
   "metadata": {},
   "outputs": [],
   "source": [
    "############################################### Problem 2.7 ################################################\n",
    "\n",
    "# define normal vector\n",
    "n = #FILL IN HERE\n",
    "\n",
    "# define velocity vector\n",
    "v_f = #FILL IN HERE\n",
    "\n",
    "# define refractive index\n",
    "n_a = #FILL IN HERE\n",
    "\n",
    "theta_deg, v_ref, P_abs = myOptics(n,v_f,n_a) # call myOptics function\n",
    "\n",
    "print('Incidence angle (deg):',theta_deg) # print angle of incidence\n",
    "print('Reflected ray velocity:',v_ref) # print reflected ray velocity\n",
    "print('Absorbed energy (\\%):',P_abs) # print absorbed power\n",
    "\n",
    "# call plotInteractive function\n",
    "plotInteractive(n,v_f,v_ref)"
   ]
  },
  {
   "attachments": {},
   "cell_type": "markdown",
   "id": "6400d6d9",
   "metadata": {},
   "source": [
    "**Problem 2.8:** $n=[0.47,-0.58,0.67]$, $v_f=[0.40,0.71,0.58]$, $n_a=11.21$"
   ]
  },
  {
   "cell_type": "code",
   "execution_count": null,
   "id": "cff6de43",
   "metadata": {},
   "outputs": [],
   "source": [
    "############################################### Problem 2.8 ################################################\n",
    "\n",
    "# define normal vector\n",
    "n = #FILL IN HERE\n",
    "\n",
    "# define velocity vector\n",
    "v_f = #FILL IN HERE\n",
    "\n",
    "# define refractive index\n",
    "n_a = #FILL IN HERE\n",
    "\n",
    "# call myOptics function\n",
    "theta_deg, v_ref, P_abs = myOptics(n,v_f,n_a)\n",
    "\n",
    "print('Incidence angle (deg):',theta_deg) # print angle of incidence\n",
    "print('Reflected ray velocity:',v_ref) # print reflected ray velocity\n",
    "print('Absorbed energy (\\%):',P_abs) # print absorbed power\n",
    "\n",
    "# call plotInteractive function\n",
    "plotInteractive(n,v_f,v_ref)"
   ]
  },
  {
   "attachments": {},
   "cell_type": "markdown",
   "id": "f3aac0f7",
   "metadata": {},
   "source": [
    "**Problem 2.9:** $n=[0.35,0.74,0.58]$, $v_f=[0,0.82,0.58]$, $n_a=17.58$"
   ]
  },
  {
   "cell_type": "code",
   "execution_count": null,
   "id": "64e16fc3",
   "metadata": {},
   "outputs": [],
   "source": [
    "############################################### Problem 2.9 ################################################\n",
    "\n",
    "# define normal vector\n",
    "n = #FILL IN HERE\n",
    "\n",
    "# define velocity vector\n",
    "v_f = #FILL IN HERE\n",
    "\n",
    "# define refractive index\n",
    "n_a = #FILL IN HERE\n",
    "\n",
    "# call myOptics function\n",
    "theta_deg, v_ref, P_abs = myOptics(n,v_f,n_a)\n",
    "\n",
    "print('Incidence angle (deg):',theta_deg) # print angle of incidence\n",
    "print('Reflected ray velocity:',v_ref) # print reflected ray velocity\n",
    "print('Absorbed energy (\\%):',P_abs) # print absorbed power\n",
    "\n",
    "# call plotInteractive function\n",
    "plotInteractive(n,v_f,v_ref)"
   ]
  },
  {
   "attachments": {},
   "cell_type": "markdown",
   "id": "a0c427e1",
   "metadata": {},
   "source": [
    "**Problem 2.10:** $n=[0.13,0.81,0.58]$, $v_f=[0.28,-0.58,0.77]$, $n_a=19.80$"
   ]
  },
  {
   "cell_type": "code",
   "execution_count": null,
   "id": "26cfb19b",
   "metadata": {},
   "outputs": [],
   "source": [
    "############################################### Problem 2.10 ################################################\n",
    "\n",
    "# define normal vector\n",
    "n = #FILL IN HERE\n",
    "\n",
    "# define velocity vector\n",
    "v_f = #FILL IN HERE\n",
    "\n",
    "# define refractive index\n",
    "n_a = #FILL IN HERE\n",
    "\n",
    "# call myOptics function\n",
    "theta_deg, v_ref, P_abs = myOptics(n,v_f,n_a)\n",
    "\n",
    "print('Incidence angle (deg):',theta_deg) # print angle of incidence\n",
    "print('Reflected ray velocity:',v_ref) # print reflected ray velocity\n",
    "print('Absorbed energy (\\%):',P_abs) # print absorbed power\n",
    "\n",
    "# call plotInteractive function\n",
    "plotInteractive(n,v_f,v_ref)"
   ]
  }
 ],
 "metadata": {
  "kernelspec": {
   "display_name": "Python 3",
   "language": "python",
   "name": "python3"
  },
  "language_info": {
   "codemirror_mode": {
    "name": "ipython",
    "version": 3
   },
   "file_extension": ".py",
   "mimetype": "text/x-python",
   "name": "python",
   "nbconvert_exporter": "python",
   "pygments_lexer": "ipython3",
   "version": "3.8.13"
  }
 },
 "nbformat": 4,
 "nbformat_minor": 5
}
