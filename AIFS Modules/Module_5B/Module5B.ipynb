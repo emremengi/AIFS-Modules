{
 "cells": [
  {
   "attachments": {},
   "cell_type": "markdown",
   "metadata": {},
   "source": [
    "### Module 5B - Game of Drones: Optimization of Agricultural UAV Swarms"
   ]
  },
  {
   "attachments": {},
   "cell_type": "markdown",
   "metadata": {},
   "source": [
    "Written for AIFS.   \n",
    "Copyright 2023 Tarek Zohdi, Emre Mengi, Omar Betancourt, Payton Goodrich. All rights reserved."
   ]
  },
  {
   "attachments": {},
   "cell_type": "markdown",
   "metadata": {},
   "source": [
    "In this project, you will use machine learning / a genetic algorithm to find optimal control parameters for a swarm of autonomous vehicles tasked with mapping a set of targets quickly while avoiding collisions with obstacles and other vehicles. This problem could represent a real-world scenario like inspecting a disaster zone or construction site."
   ]
  },
  {
   "cell_type": "code",
   "execution_count": null,
   "metadata": {
    "id": "B2QBMK6hmAB7"
   },
   "outputs": [],
   "source": [
    "################################## Importing Packages ####################################################\n",
    "\n",
    "import numpy as np\n",
    "import math\n",
    "import matplotlib.pyplot as plt\n",
    "from mpl_toolkits.mplot3d import Axes3D\n",
    "from copy import deepcopy\n",
    "from matplotlib import animation\n",
    "from matplotlib import rc\n",
    "plt.rcParams.update({'font.size': 18})\n",
    "from scipy.stats import uniform\n",
    "import pandas as pd\n",
    "from IPython.display import display, HTML\n",
    "import Zohdi_Utils as zu\n"
   ]
  },
  {
   "attachments": {},
   "cell_type": "markdown",
   "metadata": {},
   "source": [
    "### **Problem 1:** Theory-Based Exercises ###\n",
    "\n",
    "Answer the following questions *prior* to coding the assignment to better understand the background physics and mathematics that govern the given models. You **may** solve these problems by hand **and/or** using computational tools such as *#Python* etc. Please include all handwritten work and code used to solve each problem."
   ]
  },
  {
   "cell_type": "markdown",
   "metadata": {},
   "source": [
    "**Problem 1.1:** Analytically solve for the magnitude of the maximum possible velocity of the agents, in terms of \\textit{airspeed}. \\textbf{Note that airspeed is the difference between ground speed and wind speed: $\\boldsymbol{v}_{AS} = (\\boldsymbol{v}_i - \\boldsymbol{v}_a)$.}"
   ]
  },
  {
   "attachments": {},
   "cell_type": "markdown",
   "metadata": {},
   "source": [
    "*Answer here*"
   ]
  },
  {
   "attachments": {},
   "cell_type": "markdown",
   "metadata": {},
   "source": [
    "**Problem 1.2:** Write down the Forward Euler equation for time discretization. Explain all the terms."
   ]
  },
  {
   "attachments": {},
   "cell_type": "markdown",
   "metadata": {},
   "source": [
    "*Answer here*"
   ]
  },
  {
   "attachments": {},
   "cell_type": "markdown",
   "metadata": {},
   "source": [
    "**Problem 1.3:** In one sentence, what would happen if any of the $a$, $b$, or $c$ design variables became negative?"
   ]
  },
  {
   "attachments": {},
   "cell_type": "markdown",
   "metadata": {},
   "source": [
    "*Answer here*"
   ]
  },
  {
   "attachments": {},
   "cell_type": "markdown",
   "metadata": {},
   "source": [
    "### **Problem 2:** Coding Exercises ###  \n",
    "Use the given python notebook template to complete the following coding exercises."
   ]
  },
  {
   "attachments": {},
   "cell_type": "markdown",
   "metadata": {},
   "source": [
    "**Problem 2.1:** Define the constants used in the simulation. Use the variable glossary at the end of the assignment."
   ]
  },
  {
   "cell_type": "code",
   "execution_count": null,
   "metadata": {
    "id": "wE72gB3MmAB8"
   },
   "outputs": [],
   "source": [
    "# ################################## Problem 2.1 ####################################################\n",
    "\n",
    "## System Parameters\n",
    "Nm = #FILL IN HERE # number of initial agents\n",
    "No = #FILL IN HERE # number of obstacles\n",
    "Nt = #FILL IN HERE # number of targets to map\n",
    "\n",
    "locx = 100 # x bound of target/obstacle region \n",
    "locy = 100 # y bound of target/obstacle region \n",
    "locz = 10 # z bound of target/obstacle region \n",
    "\n",
    "## Domain Parameters\n",
    "xmax = 150 # x bound of domain\n",
    "ymax = 150 # y bound of domain\n",
    "zmax = 60 # z bound of domain\n",
    "\n",
    "\n",
    "droneConsts = {\n",
    "    \n",
    "## System Parameters\n",
    "'Nm' : Nm, # number of initial agents\n",
    "'No' : No, # number of obstacles\n",
    "'Nt' : Nt, # number of targets to map\n",
    "\n",
    "## Physical Parameters\n",
    "'Ai' : #FILL IN HERE, # agent characteristic area (m^2)\n",
    "'Cdi' : #FILL IN HERE, # agent coefficient of drag\n",
    "'mi' : #FILL IN HERE, # agent mass (kg)\n",
    "'va' : #FILL IN HERE, # Air velocity (m/s)\n",
    "'ra' : #FILL IN HERE, # Air Density (kg/m^3)\n",
    "'Fp' : #FILL IN HERE, # Propolsion force magnitude (N)\n",
    "\n",
    "## Time Stepping Parameters\n",
    "'dt' : #FILL IN HERE, # time step size (s)\n",
    "'tf' : #FILL IN HERE, # Maximium task time (s)\n",
    "\n",
    "## Object Interaction Parameters\n",
    "'agent_sight' : #FILL IN HERE, # maximum target mapping distance\n",
    "'crash_range' : #FILL IN HERE, # agent collision distance\n",
    "\n",
    "'w1' : #FILL IN HERE, # Weight of mapping in net cost\n",
    "'w2' : #FILL IN HERE, # Weight of time usage in net cost\n",
    "'w3' : #FILL IN HERE, # Weight of agent losses in net cost\n",
    "\n",
    "## Domain Parameters\n",
    "'xmax' : #FILL IN HERE, # x bound of domain\n",
    "'ymax' : #FILL IN HERE, # y bound of domain\n",
    "'zmax' : #FILL IN HERE, # z bound of domain\n",
    "\n",
    "# Initial Obstacle Positions (m)\n",
    "'obs' : np.hstack((uniform.rvs(-locx,2*locx,size = (No,1)),(uniform.rvs(-locy,2*locy,size = (No,1))),\n",
    "                                                       (uniform.rvs(-locz,2*locz,size = (No,1))))),\n",
    "\n",
    "# Initial Target Positions (m)\n",
    "'tar' : np.hstack((uniform.rvs(-locx,2*locx,size = (Nt,1)),(uniform.rvs(-locy,2*locy,size = (Nt,1))),\n",
    "                                                       (uniform.rvs(-locz,2*locz,size = (Nt,1))))),\n",
    "    \n",
    "# Initial Drone Positions (m)\n",
    "'pos' : np.array([(xmax - 0.05*xmax)*np.ones(Nm), np.linspace(-ymax + 0.05*ymax, ymax - 0.05*ymax, Nm), \n",
    "          np.zeros(Nm)]).T,\n",
    "\n",
    "'vel' : #FILL IN HERE, # Initial Agent velocities (m/s)\n",
    "\n",
    "}\n",
    "\n",
    "# ## Genetic Algorithm Parameters\n",
    "K = 6 # Strings generated by breeding\n",
    "P = 6 # Surviving strings for breeding\n",
    "S = 20 # Design strings per generation\n",
    "G = 100 # Total Generations\n",
    "SB = np.hstack((np.zeros((15,1)),2*np.ones((15,1)))) # Same search bounds for all design strings\n",
    "\n",
    "# ##################################################################################################################"
   ]
  },
  {
   "cell_type": "code",
   "execution_count": null,
   "metadata": {
    "id": "PFNwqgw5mAB_"
   },
   "outputs": [],
   "source": [
    "################################## Plotting Initial System ####################################################\n",
    "\n",
    "zu.PlotInitialDroneSystem(droneConsts)"
   ]
  },
  {
   "attachments": {},
   "cell_type": "markdown",
   "metadata": {},
   "source": [
    "**Problem 2.2:** Run the genetic algorithm."
   ]
  },
  {
   "attachments": {},
   "cell_type": "markdown",
   "metadata": {},
   "source": [
    "A good set of control parameters will enable agents to map targets quickly and completely without crashes. The cost function for comparing the outputs from different parameters is: \n",
    "\n",
    "\\begin{equation}\n",
    "    \\Pi = w_1M^* + w_2T^* + w_3L^* \n",
    "\\end{equation}\n",
    "\n",
    "\\begin{equation}\n",
    "    M^* = \\frac{\\text{(Unmapped targets)}}{\\text{(Total targets)}}, \\;\\; T^* = \\frac{\\text{(Used time)}}{\\text{(Total time)}}, \\;\\; L^* = \\frac{\\text{(Crashed agents)}}{\\text{(Total agents)}}\n",
    "\\end{equation}\n",
    "\n",
    "\\begin{equation*}\n",
    "    w_1 = 70, \\;\\; w_2 = 10, \\;\\; w_3 = 20\n",
    "\\end{equation*}\n",
    "\n",
    "Note that all terms in the cost function are non-dimensional. The weights reflect the relative importance of each term. The ``design string\" for this problem contains all 15 undetermined constants: \n",
    "\n",
    "\\begin{equation} \n",
    "\\Lambda^{i}= \\{\\Lambda^i_1,..., \\Lambda^i_N\\}= \\{ W_{mt}, W_{mo}, W_{mm}, w_{t1}, w_{t2}, w_{o1}, w_{o2}, w_{m1}, w_{m2}, a_1, a_2,  b_1, b_2,  c_1, c_2\\}^i\n",
    "\\end{equation} \n",
    "\n",
    "You should initially assume that the values of all design parameters lie in the interval: \n",
    "\n",
    "\\begin{equation}\n",
    "    0 \\leq \\Lambda_n \\leq 2 \\;\\forall \\; n\n",
    "\\end{equation}\n",
    "\n",
    "Scale and offset all randomly-generated design strings to span this interval."
   ]
  },
  {
   "cell_type": "code",
   "execution_count": null,
   "metadata": {
    "id": "Fdm_lUstmACC"
   },
   "outputs": [],
   "source": [
    "################################# Problem 2.2 #######################################################\n",
    "def myGA(S,G,P,SB,Func,consts):\n",
    "    \n",
    "    # Get number of design variables from size of search bound array\n",
    "    dv = SB.shape[0] \n",
    "    \n",
    "    # set number of kids (K) equal to number of parents\n",
    "    K = P\n",
    "    \n",
    "    # Initialize all variables to be saved\n",
    "    Min = np.zeros(G) # Minimum cost for each generation\n",
    "    PAve = np.zeros(G) # Parent average for each generation\n",
    "    Ave = np.zeros(G) # Total population average for each generation\n",
    "    lamHist = np.zeros((G,dv))    \n",
    "    \n",
    "    \n",
    "    Pi = np.zeros(S) # All costs in an individual generation\n",
    "    \n",
    "    # Initialize Lam array which will contain all of the design strings for all design variables\n",
    "    Lam = np.zeros((S,dv))\n",
    "    \n",
    "    # Generate initial random population by looping through the number of design variables and building out the Lam array\n",
    "    for i in range(dv):\n",
    "        Lam[:,i] = uniform.rvs(SB[i,0],SB[i,1]-SB[i,0],size = S)\n",
    "        \n",
    "    # In first generation, calculate cost for all strings.\n",
    "    # After, only calculate new strings since fitness for top P parents are already calculated\n",
    "    # Initialize an index parameter to 0 to track which design string to start evaluating costs from\n",
    "    start = 0 \n",
    "    \n",
    "    for i in range(G): # Loop through generations\n",
    "        \n",
    "        # Calculate fitness of unknown design string costs\n",
    "        for j in range(start,S): # Evaluate fitness of strings\n",
    "            \n",
    "            # Plug in design string control variables and array of function constants\n",
    "            output = Func(Lam[j,:], consts) # Outputs dict of function outputs\n",
    "            \n",
    "            Pi[j] = output['Pi'] # Extract cost from dict of outputs and assign it to cost array\n",
    "            \n",
    "        \n",
    "        # Sort cost and design strings based on performance\n",
    "        ind = np.argsort(Pi)\n",
    "        Pi = np.sort(Pi)\n",
    "        Lam = Lam[ind,:]\n",
    "        \n",
    "        # Save best design string for current generation\n",
    "        lamHist[i,:] = Lam[0,:]\n",
    "        \n",
    "        # Generate offspring radnom parameters and indices for vectorized offspring calculation\n",
    "        phi = np.random.rand(K,SB.shape[0]) # Generate random weights for offspring\n",
    "        ind1 = range(0,K,2) # First set of children based on even numbered parameters\n",
    "        ind2 = range(1,K,2) # Second set of children based on odd numbered parameters\n",
    "        \n",
    "        Parents = Lam[0:P,:] # Top P performing parents\n",
    "        Children1 = phi[ind1,:]*Lam[ind1,:] + (1-phi[ind1,:])*Lam[ind2,:] # First set of children\n",
    "        Children2 = phi[ind2,:]*Lam[ind2,:] + (1-phi[ind2,:])*Lam[ind1,:] # Second set of children\n",
    "        \n",
    "        # Initialize newPopulation array which will have S-P-K new random strings for all design variables\n",
    "        newPop = np.zeros((S-P-K,dv))\n",
    "        \n",
    "        # Generate S - P - K new random strings by looping through the number of design variables and building out the new Population array\n",
    "        for j in range(dv):\n",
    "            newPop[:,j] = uniform.rvs(SB[j,0],SB[j,1]-SB[j,0],size = S-P-K)\n",
    "        \n",
    "         # Vertically stack parents, children, and new strings to use in next generation  \n",
    "        Lam = np.vstack((Parents, Children1, Children2, newPop))  \n",
    "        \n",
    "        # Save minimum, parent average, and population average cost values for plotting\n",
    "        Min[i] = Pi[0]\n",
    "        PAve[i] = np.mean(Pi[0:P])\n",
    "        Ave[i] = np.mean(Pi)\n",
    "        \n",
    "        # Update index parameter to P such that only new string cost values are calculated\n",
    "        start = P\n",
    "        \n",
    "        # Print miminum value of cost for debugging (should monotonically decrease over generations)\n",
    "        print(\"Best cost for generation \" + str(i+1) + \": \" + str(Min[i]))\n",
    "        \n",
    "    bestLam = Lam[0,:] # Extract best design string parameters afer all generations are run\n",
    "    \n",
    "    return(lamHist, Lam, bestLam, Pi, Min, PAve, Ave)"
   ]
  },
  {
   "cell_type": "code",
   "execution_count": null,
   "metadata": {
    "id": "0MF_q8MzdEtA"
   },
   "outputs": [],
   "source": [
    "################################# Call GA to optimize drone system #######################################################\n",
    "\n",
    "lamHist, Lam, bestLam, Pi, Min, PAve, Ave = myGA(S,G,P,SB,zu.droneSim,droneConsts)"
   ]
  },
  {
   "attachments": {},
   "cell_type": "markdown",
   "metadata": {},
   "source": [
    "### **Problem 3:** Analyzing Your Results ###  \n",
    "Answer the following questions about the code you created."
   ]
  },
  {
   "attachments": {},
   "cell_type": "markdown",
   "metadata": {},
   "source": [
    "**Problem 3.1:** Report your best-performing 4 designs in a table similar to the following, but replacing $\\Lambda_i$ with the design variables specific to this project. Use *pandas DataFrame* to generate the table in cell *Problem 3.1*  "
   ]
  },
  {
   "attachments": {},
   "cell_type": "markdown",
   "metadata": {},
   "source": [
    "<img src=\"GAtable.png\" width=\"400\" />"
   ]
  },
  {
   "cell_type": "code",
   "execution_count": null,
   "metadata": {
    "id": "klxpeaMzdEtB"
   },
   "outputs": [],
   "source": [
    "################################# Problem 3.1 #######################################################\n",
    "\n",
    "# Create the requested table using pandas data frame\n",
    "GAoutputTable = {\n",
    "    'Design': ['1', '2','3','4'],\n",
    "    #FILL IN THE REST OF THE COLUMNS HERE\n",
    "}\n",
    "\n",
    "df = pd.DataFrame(GAoutputTable)\n",
    "\n",
    "display(HTML(df.to_html(index=False)))"
   ]
  },
  {
   "attachments": {},
   "cell_type": "markdown",
   "metadata": {},
   "source": [
    "**Problem 3.2:** Provide a convergence plot showing the total cost of the best design, the mean of all parent designs, and the mean of the overall population for each generation. Provide a plot showing the individual performance components (i.e., plot $M^*$, $T^*$, and $L^*$), for the overall best performer. Do so by running cell *Problem 3.2/3.3*. Discuss any important observations."
   ]
  },
  {
   "cell_type": "code",
   "execution_count": null,
   "metadata": {
    "id": "8mNrveCvmACE"
   },
   "outputs": [],
   "source": [
    "################################# Problem 3.2/3.3 #######################################################\n",
    "\n",
    "zu.PlotDroneGAStatistics(G,Min,PAve,Ave,lamHist,droneConsts)"
   ]
  },
  {
   "attachments": {},
   "cell_type": "markdown",
   "metadata": {},
   "source": [
    "You can also visualize the best drone behavior by running the animation below."
   ]
  },
  {
   "cell_type": "code",
   "execution_count": null,
   "metadata": {
    "colab": {
     "background_save": true
    },
    "id": "7V5e_XFLmACE"
   },
   "outputs": [],
   "source": [
    "################################# Plotting Best Solution Animation ###############################################################\n",
    "\n",
    "zu.PlotDroneAnimation(bestLam,droneConsts)"
   ]
  },
  {
   "attachments": {},
   "cell_type": "markdown",
   "metadata": {},
   "source": [
    "Use the following variable glossary to fill in the required variables."
   ]
  },
  {
   "attachments": {},
   "cell_type": "markdown",
   "metadata": {},
   "source": [
    "<img src=\"VariableGlossary.png\" width=\"800\" />"
   ]
  }
 ],
 "metadata": {
  "colab": {
   "name": "Drones.ipynb",
   "provenance": []
  },
  "kernelspec": {
   "display_name": "Python 3.9.7 ('base')",
   "language": "python",
   "name": "python3"
  },
  "language_info": {
   "codemirror_mode": {
    "name": "ipython",
    "version": 3
   },
   "file_extension": ".py",
   "mimetype": "text/x-python",
   "name": "python",
   "nbconvert_exporter": "python",
   "pygments_lexer": "ipython3",
   "version": "3.9.7 (default, Sep 16 2021, 16:59:28) [MSC v.1916 64 bit (AMD64)]"
  },
  "vscode": {
   "interpreter": {
    "hash": "3182b8545a1debe976130e08c1f12303d2138a80d5e38eea19c1e6a1b91def4d"
   }
  }
 },
 "nbformat": 4,
 "nbformat_minor": 1
}
