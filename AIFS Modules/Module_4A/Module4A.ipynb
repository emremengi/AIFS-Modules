{
 "cells": [
  {
   "cell_type": "markdown",
   "id": "e92c7996",
   "metadata": {},
   "source": [
    "### Module 4A - Genetic Algorithms (for process optimization)"
   ]
  },
  {
   "cell_type": "markdown",
   "id": "8546dc7d",
   "metadata": {},
   "source": [
    "Written for AIFS.   \n",
    "Copyright 2023 Tarek Zohdi, Carla Becker. All rights reserved."
   ]
  },
  {
   "cell_type": "markdown",
   "id": "93ba3766",
   "metadata": {},
   "source": [
    "In this project, you will use a genetic algorithm to find system parameters for a spark sintering process (starter code\n",
    "provided) that match a desired result. You may solve these problems by hand and/or using computational tools\n",
    "such as Python etc. Please include all handwritten work and code used to solve each problem."
   ]
  },
  {
   "cell_type": "code",
   "execution_count": null,
   "id": "9c58d870",
   "metadata": {},
   "outputs": [],
   "source": [
    "############################################### Import Packages ##########################################\n",
    "import numpy as np\n",
    "import time\n",
    "import matplotlib.pyplot as plt\n",
    "from matplotlib import rc\n",
    "from Pi_sintering_PYTHON import Pi, voight, ivoight, frob_norm"
   ]
  },
  {
   "cell_type": "code",
   "execution_count": null,
   "id": "b5f7906c",
   "metadata": {},
   "outputs": [],
   "source": [
    "############################################### Definitions ##########################################\n",
    "# Pi(Lambda)          anonymous function for evaluating fitness\n",
    "#                          Pi.m should be in the working directory\n",
    "# K,          1 x 1,  number of design strings to preserve and breed\n",
    "# TOL,        1 x 1,  cost function threshold to stop evolution\n",
    "# G,          1 x 1,  maximum number of generations\n",
    "# S,          1 x 1,  total number of design strings per generation\n",
    "# dv,         1 x 1,  number of design variables per string\n",
    "# PI,         G x S,  cost of sth design in the gth generation\n",
    "# Orig,       G x S,  indices of sorted strings before sorting\n",
    "#                     e.g. Orig(10, 1) = 34 means that the 1st ranked \n",
    "#                          string in generation 10 was in position 34, \n",
    "#                          visualize using familyTree.m\n",
    "# Lambda,     dv x S, array of most recent design strings\n",
    "# g,          1 x 1,  generation counter\n",
    "# PI_best,    1 x g,  minimum cost across strings and generations\n",
    "# PI_avg,     1 x g,  average cost across strings and generations\n",
    "# PI_par_avg, 1 x g,  average cost across strings and generations\n",
    "\n",
    "def sort(pi):\n",
    "    new_pi = np.sort(pi, axis=0)\n",
    "    ind = np.argsort(pi, axis=0)\n",
    "    return [new_pi, ind]\n",
    "\n",
    "def reorder(Lambda, ind):\n",
    "    temp = np.zeros((S,dv))\n",
    "    for i in range(0, len(ind)):\n",
    "        temp[i,:] = Lambda[int(ind[i]),:]\n",
    "    Lambda = temp\n",
    "    return Lambda"
   ]
  },
  {
   "cell_type": "code",
   "execution_count": null,
   "id": "21f95523",
   "metadata": {},
   "outputs": [],
   "source": [
    "############################################### Givens ##########################################\n",
    "P = 6\n",
    "K = 6\n",
    "TOL = 1e-6\n",
    "G = 100\n",
    "S = 20\n",
    "dv = 2\n",
    "\n",
    "J3min = 0\n",
    "J3max = 1e7\n",
    "D0min = 0.5\n",
    "D0max = 0.9"
   ]
  },
  {
   "cell_type": "markdown",
   "id": "821b53b8",
   "metadata": {},
   "source": [
    "### **Problem 1:** Coding Exercises ###  \n",
    "Use the given python notebook template to complete the following coding exercises."
   ]
  },
  {
   "cell_type": "markdown",
   "id": "ac805a03",
   "metadata": {},
   "source": [
    "**Problem 1.1:** Provide a convergence plot showing the cost of the best design, the mean costs of all parent designs, and the mean cost of the overall population **for each generation**. A convergence plot should show the cost over many generations. A correct implementation will show the cost going down for the entire parent population and the best design. You should use **loglog()** or **semilogy()** when plotting your results since the cost will vary over several orders of magnitude. See the plotting examples script on bcourses for examples of good and bad plot scaling."
   ]
  },
  {
   "cell_type": "code",
   "execution_count": null,
   "id": "c4879a42",
   "metadata": {},
   "outputs": [],
   "source": [
    "# For construction of random genetic strings\n",
    "scale_factor = np.array([J3max - J3min, D0max - D0min]) # dv x 1\n",
    "offset = np.array([J3min, D0min])                       # dv x 1\n",
    "\n",
    "# Initialize\n",
    "PI = np.ones((G, S))\n",
    "Orig = np.ones((G, S))\n",
    "Lambda = np.random.rand(S, dv)*scale_factor + offset\n",
    "\n",
    "# First generation\n",
    "g = 0\n",
    "cost = Pi(Lambda)\n",
    "\n",
    "[new_cost, ind] = #FILL IN HERE,     # order in terms of decreasing cost    \n",
    "PI[g, :] = new_cost.reshape(1,S) # log the initial population costs NEED TO RESHAPE?????\n",
    "Orig[g,:] = ind.reshape(1,S)     # log the indices before sorting\n",
    "Lambda = #FILL IN HERE,    # order in terms of decreasing cost\n",
    "\n",
    "# Store values for performance tracking\n",
    "PI_best = 1e10*np.ones(G)\n",
    "PI_avg = 1e10*np.ones(G)\n",
    "PI_par_avg = 1e10*np.ones(G)\n",
    "top_performers = Lambda[1:4,:]\n",
    "top_costs = new_cost[1:4]\n",
    "\n",
    "# Update performance trackers\n",
    "PI_best[0] = #FILL IN HERE\n",
    "PI_avg[1] = #FILL IN HERE\n",
    "MIN = #FILL IN HERE\n",
    "\n",
    "# All later generations\n",
    "while (MIN > TOL) and (g < G):\n",
    "\n",
    "    # Print generation for debugging\n",
    "    # print('g=' + str(g)) \n",
    "        \n",
    "    # Mating \n",
    "    parents = Lambda[0:P,:]\n",
    "    kids = np.zeros((K, dv))\n",
    "    \n",
    "    for p in list(range(0,P,2)): # p = 0, 2, 4, 6,...      \n",
    "        if P % 2:\n",
    "            print('P is odd. Choose an even number of parents.')\n",
    "            break\n",
    "        phi1 = np.random.rand()\n",
    "        phi2 = np.random.rand()\n",
    "        kids[p,:]   = #FILL IN HERE\n",
    "        kids[p+1,:] = #FILL IN HERE\n",
    "        \n",
    "    # Update Lambda (with parents)\n",
    "    new_strings = #FILL IN HERE\n",
    "    Lambda = np.vstack((parents, kids, new_strings)) # concatenate vertically\n",
    "    \n",
    "    # Evaluate fitness of new population\n",
    "    cost = #FILL IN HERE\n",
    " \n",
    "    # Evaluate fitness of parent population\n",
    "    par_cost = cost[0:P]\n",
    "        \n",
    "    [new_cost, ind] = #FILL IN HERE    \n",
    "    PI[g, :] = new_cost.reshape(1,S)        \n",
    "    Orig[g,:] = ind.reshape(1,S) \n",
    "    Lambda = #FILL IN HERE,    # order in terms of decreasing cost\n",
    "    \n",
    "    # Update performance trackers\n",
    "    PI_best[g] = #FILL IN HERE\n",
    "    PI_avg[g] = #FILL IN HERE\n",
    "    PI_par_avg[g] = #FILL IN HER\n",
    "    \n",
    "    if np.min(new_cost) < MIN:\n",
    "        MIN = #FILL IN HERE\n",
    "\n",
    "    g = g + 1"
   ]
  },
  {
   "cell_type": "code",
   "execution_count": null,
   "id": "9ba680d0",
   "metadata": {},
   "outputs": [],
   "source": [
    "# Plotting\n",
    "fig1, ax1 = plt.subplots()\n",
    "ax1.semilogy(np.arange(0,g), PI_best[0:g])\n",
    "ax1.semilogy(np.arange(0,g), PI_avg[0:g])\n",
    "ax1.semilogy(np.arange(0,g), PI_par_avg[0:g])\n",
    "plt.xlabel('Generations',  fontsize=20)\n",
    "plt.ylabel('Cost', fontsize=20)\n",
    "plt.title('Convergence of Cost Function', fontsize=20)\n",
    "plt.legend(['Best', 'Overall Mean', 'Parent Mean'], fontsize=15)"
   ]
  },
  {
   "cell_type": "markdown",
   "id": "0c647b99",
   "metadata": {},
   "source": [
    "**Problem 1.2:** Report your best-performing 4 designs in a table similar to the following."
   ]
  },
  {
   "cell_type": "code",
   "execution_count": null,
   "id": "adb7214e",
   "metadata": {},
   "outputs": [],
   "source": [
    "# Save the costs and the parameters\n",
    "top_costs = #FILL IN HERE\n",
    "top_performers = #FILL IN HERE"
   ]
  },
  {
   "cell_type": "markdown",
   "id": "f663d122",
   "metadata": {},
   "source": [
    "*Answer here*"
   ]
  },
  {
   "cell_type": "markdown",
   "id": "94e559c7",
   "metadata": {},
   "source": [
    "**Problem 1.3:** Plots of the densification parameter and temperature versus time for the best-performing design. How well does the design achieve the desired system behavior?"
   ]
  },
  {
   "cell_type": "markdown",
   "id": "a66fefc1",
   "metadata": {},
   "source": [
    "*Answer here*"
   ]
  },
  {
   "cell_type": "markdown",
   "id": "0c4c0088",
   "metadata": {},
   "source": [
    "### **Problem 2:** Analyzing Your Results ###  \n",
    "Answer the following questions about the code you created."
   ]
  },
  {
   "cell_type": "markdown",
   "id": "332e8b70",
   "metadata": {},
   "source": [
    "**Problem 2.1:** Discuss the results. How much variation does each parameter have between your top performers?"
   ]
  },
  {
   "cell_type": "markdown",
   "id": "14268f54",
   "metadata": {},
   "source": [
    "*Answer here*"
   ]
  },
  {
   "cell_type": "markdown",
   "id": "0ce9cf1d",
   "metadata": {},
   "source": [
    "**Problem 2.2:** Compare results between several runs of your program. Are the results consistent, or do you get different answers?"
   ]
  },
  {
   "cell_type": "markdown",
   "id": "fa6ba4c6",
   "metadata": {},
   "source": [
    "*Answer here*"
   ]
  }
 ],
 "metadata": {
  "kernelspec": {
   "display_name": "aifs",
   "language": "python",
   "name": "aifs"
  },
  "language_info": {
   "codemirror_mode": {
    "name": "ipython",
    "version": 3
   },
   "file_extension": ".py",
   "mimetype": "text/x-python",
   "name": "python",
   "nbconvert_exporter": "python",
   "pygments_lexer": "ipython3",
   "version": "3.10.6"
  }
 },
 "nbformat": 4,
 "nbformat_minor": 5
}
