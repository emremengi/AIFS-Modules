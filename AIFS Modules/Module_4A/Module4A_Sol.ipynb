{
 "cells": [
  {
   "cell_type": "markdown",
   "id": "e92c7996",
   "metadata": {},
   "source": [
    "### Module 4A - Genetic Algorithms (for process optimization)"
   ]
  },
  {
   "cell_type": "markdown",
   "id": "8546dc7d",
   "metadata": {},
   "source": [
    "Written for AIFS.   \n",
    "Copyright 2023 Tarek Zohdi, Carla Becker. All rights reserved."
   ]
  },
  {
   "cell_type": "markdown",
   "id": "90ef5d05",
   "metadata": {},
   "source": [
    "In this project, you will use a genetic algorithm to find system parameters for a spark sintering process (starter code\n",
    "provided) that match a desired result. You may solve these problems by hand and/or using computational tools\n",
    "such as Python etc. Please include all handwritten work and code used to solve each problem."
   ]
  },
  {
   "cell_type": "code",
   "execution_count": 3,
   "id": "9c58d870",
   "metadata": {},
   "outputs": [],
   "source": [
    "############################################### Import Packages ##########################################\n",
    "import numpy as np\n",
    "import time\n",
    "import matplotlib.pyplot as plt\n",
    "from matplotlib import rc\n",
    "from Pi_sintering_PYTHON import Pi, voight, ivoight, frob_norm"
   ]
  },
  {
   "cell_type": "code",
   "execution_count": 4,
   "id": "b5f7906c",
   "metadata": {},
   "outputs": [],
   "source": [
    "############################################### Definitions ##########################################\n",
    "# Pi(Lambda)          anonymous function for evaluating fitness\n",
    "#                          Pi.m should be in the working directory\n",
    "# K,          1 x 1,  number of design strings to preserve and breed\n",
    "# TOL,        1 x 1,  cost function threshold to stop evolution\n",
    "# G,          1 x 1,  maximum number of generations\n",
    "# S,          1 x 1,  total number of design strings per generation\n",
    "# dv,         1 x 1,  number of design variables per string\n",
    "# PI,         G x S,  cost of sth design in the gth generation\n",
    "# Orig,       G x S,  indices of sorted strings before sorting\n",
    "#                     e.g. Orig(10, 1) = 34 means that the 1st ranked \n",
    "#                          string in generation 10 was in position 34, \n",
    "#                          visualize using familyTree.m\n",
    "# Lambda,     dv x S, array of most recent design strings\n",
    "# g,          1 x 1,  generation counter\n",
    "# PI_best,    1 x g,  minimum cost across strings and generations\n",
    "# PI_avg,     1 x g,  average cost across strings and generations\n",
    "# PI_par_avg, 1 x g,  average cost across strings and generations\n",
    "\n",
    "def sort(pi):\n",
    "    new_pi = np.sort(pi, axis=0)\n",
    "    ind = np.argsort(pi, axis=0)\n",
    "    return [new_pi, ind]\n",
    "\n",
    "def reorder(Lambda, ind):\n",
    "    temp = np.zeros((S,dv))\n",
    "    for i in range(0, len(ind)):\n",
    "        temp[i,:] = Lambda[int(ind[i]),:]\n",
    "    Lambda = temp\n",
    "    return Lambda"
   ]
  },
  {
   "cell_type": "code",
   "execution_count": 6,
   "id": "21f95523",
   "metadata": {},
   "outputs": [],
   "source": [
    "############################################### Givens ##########################################\n",
    "P = 6\n",
    "K = 6\n",
    "TOL = 1e-6\n",
    "G = 100\n",
    "S = 20\n",
    "dv = 2\n",
    "\n",
    "J3min = 0\n",
    "J3max = 1e7\n",
    "D0min = 0.5\n",
    "D0max = 0.9"
   ]
  },
  {
   "cell_type": "markdown",
   "id": "821b53b8",
   "metadata": {},
   "source": [
    "### **Problem 1:** Coding Exercises ###  \n",
    "Use the given python notebook template to complete the following coding exercises."
   ]
  },
  {
   "cell_type": "markdown",
   "id": "ac805a03",
   "metadata": {},
   "source": [
    "**Problem 1.1:** Provide a convergence plot showing the cost of the best design, the mean costs of all parent designs, and the mean cost of the overall population **for each generation**. A convergence plot should show the cost over many generations. A correct implementation will show the cost going down for the entire parent population and the best design. You should use **loglog()** or **semilogy()** when plotting your results since the cost will vary over several orders of magnitude. See the plotting examples script on bcourses for examples of good and bad plot scaling."
   ]
  },
  {
   "cell_type": "code",
   "execution_count": 8,
   "id": "c4879a42",
   "metadata": {},
   "outputs": [
    {
     "name": "stderr",
     "output_type": "stream",
     "text": [
      "/mnt/c/Users/shiny/Berkeley/Educational Module/4A/Pi_sintering_PYTHON.py:164: RuntimeWarning: overflow encountered in exp\n",
      "  softn = np.exp(-(thetan - theta0)/theta0)                         # thermal softening parameter, [unitless], Sx1\n",
      "/mnt/c/Users/shiny/Berkeley/Educational Module/4A/Pi_sintering_PYTHON.py:214: RuntimeWarning: invalid value encountered in matmul\n",
      "  S61n = np.matmul(EEn, Ee61n) # Second-Piola Kirchoff stress, [Pa], Sx6x1\n",
      "/mnt/c/Users/shiny/Berkeley/Educational Module/4A/Pi_sintering_PYTHON.py:229: RuntimeWarning: invalid value encountered in multiply\n",
      "  thetadotn_num = np.reshape(np.multiply(S33n, Epdotn).sum(axis=(1,2)), [S,1]) + np.multiply(ddotn, softn**P1)*W - divq0 + Jacn*Hn # Sx1\n"
     ]
    }
   ],
   "source": [
    "# For construction of random genetic strings\n",
    "scale_factor = np.array([J3max - J3min, D0max - D0min]) # dv x 1\n",
    "offset = np.array([J3min, D0min])                       # dv x 1\n",
    "\n",
    "# Initialize\n",
    "PI = np.ones((G, S))\n",
    "Orig = np.ones((G, S))\n",
    "Lambda = np.random.rand(S, dv)*scale_factor + offset\n",
    "\n",
    "# First generation\n",
    "g = 0\n",
    "cost = Pi(Lambda)\n",
    "\n",
    "[new_cost, ind] = sort(cost)     # order in terms of decreasing cost    \n",
    "PI[g, :] = new_cost.reshape(1,S) # log the initial population costs NEED TO RESHAPE?????\n",
    "Orig[g,:] = ind.reshape(1,S)     # log the indices before sorting\n",
    "Lambda = reorder(Lambda, ind)    # order in terms of decreasing cost\n",
    "\n",
    "# Store values for performance tracking\n",
    "PI_best = 1e10*np.ones(G)\n",
    "PI_avg = 1e10*np.ones(G)\n",
    "PI_par_avg = 1e10*np.ones(G)\n",
    "top_performers = Lambda[1:4,:]\n",
    "top_costs = new_cost[1:4]\n",
    "\n",
    "# Update performance trackers\n",
    "PI_best[0] = np.min(new_cost)\n",
    "PI_avg[1] = np.mean(new_cost)\n",
    "MIN = np.min(new_cost)   \n",
    "\n",
    "# All later generations\n",
    "while (MIN > TOL) and (g < G):\n",
    "\n",
    "    # Print generation for debugging\n",
    "    # print('g=' + str(g)) \n",
    "        \n",
    "    # Mating \n",
    "    parents = Lambda[0:P,:]\n",
    "    kids = np.zeros((K, dv))\n",
    "    \n",
    "    for p in list(range(0,P,2)): # p = 0, 2, 4, 6,...      \n",
    "        if P % 2:\n",
    "            print('P is odd. Choose an even number of parents.')\n",
    "            break\n",
    "        phi1 = np.random.rand()\n",
    "        phi2 = np.random.rand()\n",
    "        kids[p,:]   = phi1 * parents[p,:] + (1 - phi1) * parents[p+1,:]\n",
    "        kids[p+1,:] = phi2 * parents[p,:] + (1 - phi2) * parents[p+1,:]\n",
    "        \n",
    "    # Update Lambda (with parents)\n",
    "    new_strings = np.random.rand(S-K-P, dv)*scale_factor + offset\n",
    "    Lambda = np.vstack((parents, kids, new_strings)) # concatenate vertically\n",
    "    \n",
    "    # Evaluate fitness of new population\n",
    "    cost = Pi(Lambda)\n",
    " \n",
    "    # Evaluate fitness of parent population\n",
    "    par_cost = cost[0:P]\n",
    "        \n",
    "    [new_cost, ind] = sort(cost)     \n",
    "    PI[g, :] = new_cost.reshape(1,S)        \n",
    "    Orig[g,:] = ind.reshape(1,S) \n",
    "    Lambda = reorder(Lambda, ind)    # order in terms of decreasing cost\n",
    "    \n",
    "    # Update performance trackers\n",
    "    PI_best[g] = np.min(new_cost)\n",
    "    PI_avg[g] = np.mean(new_cost)\n",
    "    PI_par_avg[g] = np.mean(par_cost)\n",
    "    \n",
    "    if np.min(new_cost) < MIN:\n",
    "        MIN = np.min(new_cost)\n",
    "\n",
    "    g = g + 1"
   ]
  },
  {
   "cell_type": "code",
   "execution_count": 9,
   "id": "9ba680d0",
   "metadata": {},
   "outputs": [
    {
     "data": {
      "text/plain": [
       "<matplotlib.legend.Legend at 0x7f6e179c6740>"
      ]
     },
     "execution_count": 9,
     "metadata": {},
     "output_type": "execute_result"
    },
    {
     "data": {
      "image/png": "[encoded data removed]",
      "text/plain": [
       "<Figure size 640x480 with 1 Axes>"
      ]
     },
     "metadata": {},
     "output_type": "display_data"
    }
   ],
   "source": [
    "# Plotting\n",
    "fig1, ax1 = plt.subplots()\n",
    "ax1.semilogy(np.arange(0,g), PI_best[0:g])\n",
    "ax1.semilogy(np.arange(0,g), PI_avg[0:g])\n",
    "ax1.semilogy(np.arange(0,g), PI_par_avg[0:g])\n",
    "plt.xlabel('Generations',  fontsize=20)\n",
    "plt.ylabel('Cost', fontsize=20)\n",
    "plt.title('Convergence of Cost Function', fontsize=20)\n",
    "plt.legend(['Best', 'Overall Mean', 'Parent Mean'], fontsize=15)"
   ]
  },
  {
   "cell_type": "markdown",
   "id": "0c647b99",
   "metadata": {},
   "source": [
    "**Problem 1.2:** Report your best-performing 4 designs in a table similar to the following."
   ]
  },
  {
   "cell_type": "code",
   "execution_count": 10,
   "id": "adb7214e",
   "metadata": {},
   "outputs": [],
   "source": [
    "# Save the costs and the parameters\n",
    "top_costs = new_cost[0:4]\n",
    "top_performers = Lambda[0:4,:]"
   ]
  },
  {
   "cell_type": "code",
   "execution_count": 13,
   "id": "0db3120d",
   "metadata": {},
   "outputs": [
    {
     "name": "stdout",
     "output_type": "stream",
     "text": [
      "Top Performing Strings(Design Parameters)\n",
      "S1\n",
      "8581089.913710816\n",
      "0.7662995477031058\n",
      "S2\n",
      "9151166.644001838\n",
      "0.7390757725102297\n",
      "S3\n",
      "9070004.324073706\n",
      "0.7525822254278122\n",
      "S4\n",
      "8894603.92418017\n",
      "0.7513278176055143\n"
     ]
    }
   ],
   "source": [
    "print('Top Performing Strings(Design Parameters)')\n",
    "print('S1')\n",
    "print(top_performers[0,0])\n",
    "print(top_performers[0,1])\n",
    "print('S2')\n",
    "print(top_performers[1,0])\n",
    "print(top_performers[1,1])\n",
    "print('S3')\n",
    "print(top_performers[2,0])\n",
    "print(top_performers[2,1])\n",
    "print('S4')\n",
    "print(top_performers[3,0])\n",
    "print(top_performers[3,1])"
   ]
  },
  {
   "cell_type": "code",
   "execution_count": 14,
   "id": "cfdcd0d1",
   "metadata": {},
   "outputs": [
    {
     "name": "stdout",
     "output_type": "stream",
     "text": [
      "Costs of Top Performing Strings\n",
      "Pi1 | Pi2 | Pi3 | Pi4\n",
      "[[1.69453381e-06]\n",
      " [4.88116627e-04]\n",
      " [1.36699497e-02]\n",
      " [2.28949532e-02]]\n"
     ]
    }
   ],
   "source": [
    "print('Costs of Top Performing Strings')\n",
    "print('Pi1 | Pi2 | Pi3 | Pi4')\n",
    "print(top_costs)"
   ]
  },
  {
   "cell_type": "markdown",
   "id": "94e559c7",
   "metadata": {},
   "source": [
    "**Problem 1.3:** Plots of the densification parameter and temperature versus time for the best-performing design. How well does the design achieve the desired system behavior?"
   ]
  },
  {
   "cell_type": "markdown",
   "id": "9de0042a",
   "metadata": {},
   "source": [
    "Please see the plotting code in **sintering.ipynb** file."
   ]
  },
  {
   "cell_type": "markdown",
   "id": "8e5bbf0c",
   "metadata": {},
   "source": [
    "The desired max temperature was = 650 K and the desired end densification was d = 0 (full densification).\n",
    "We achieved this within ten-thousandths of a degree Kelvin."
   ]
  },
  {
   "cell_type": "markdown",
   "id": "0c4c0088",
   "metadata": {},
   "source": [
    "### **Problem 2:** Analyzing Your Results ###  \n",
    "Answer the following questions about the code you created."
   ]
  },
  {
   "cell_type": "markdown",
   "id": "332e8b70",
   "metadata": {},
   "source": [
    "**Problem 2.1:** Discuss the results. How much variation does each parameter have between your top performers?"
   ]
  },
  {
   "cell_type": "markdown",
   "id": "792765ea",
   "metadata": {},
   "source": [
    "**ANSWER:** Looking at the process parameter values in the table from part (b), we observe that there is very little variation among the top performing strings. Five significant digits had to be reported before there was a discernible difference between the values. The variation among the corresponding costs, however, is not quite as tight ? the costs range over 3 orders of magnitude! The actual sintering process may not be this sensitive. This is definitely an area for improvement in future models. It could be as simple as reducing the error tolerance value."
   ]
  },
  {
   "cell_type": "markdown",
   "id": "0ce9cf1d",
   "metadata": {},
   "source": [
    "**Problem 2.2:** Compare results between several runs of your program. Are the results consistent, or do you get different answers?"
   ]
  },
  {
   "cell_type": "markdown",
   "id": "808ae6e3",
   "metadata": {},
   "source": [
    "**ANSWER:** The main difference between the two commonly produced results is whether the maximum temperature occurs at densification or at the end of the process (when the current source is turned off and the densified material stops heating).\n",
    "\n",
    "In addition to these two reasonable results, the genetic algorithm also sometimes “get stuck” on a best string which does not meet the error tolerance because of “inbreeding” of the parents. The only way to escape such a situation is to run the genetic algorithm for a significantly greater number of generations in hopes that a randomly generated string is better than the string that is now identically all of the parents. In practice, when this happens it is best to quit the program and re-run."
   ]
  }
 ],
 "metadata": {
  "kernelspec": {
   "display_name": "aifs",
   "language": "python",
   "name": "aifs"
  },
  "language_info": {
   "codemirror_mode": {
    "name": "ipython",
    "version": 3
   },
   "file_extension": ".py",
   "mimetype": "text/x-python",
   "name": "python",
   "nbconvert_exporter": "python",
   "pygments_lexer": "ipython3",
   "version": "3.10.6"
  }
 },
 "nbformat": 4,
 "nbformat_minor": 5
}
